{
 "cells": [
  {
   "cell_type": "code",
   "execution_count": 1,
   "metadata": {},
   "outputs": [
    {
     "name": "stderr",
     "output_type": "stream",
     "text": [
      "C:\\Users\\Mudit\\Anaconda3\\envs\\tensorflow_gpuenv\\lib\\site-packages\\smart_open\\ssh.py:34: UserWarning: paramiko missing, opening SSH/SCP/SFTP paths will be disabled.  `pip install paramiko` to suppress\n",
      "  warnings.warn('paramiko missing, opening SSH/SCP/SFTP paths will be disabled.  `pip install paramiko` to suppress')\n"
     ]
    }
   ],
   "source": [
    "import pandas as pd\n",
    "import numpy as np\n",
    "import nltk\n",
    "import matplotlib.pyplot as plt\n",
    "import sklearn\n",
    "import tensorflow as tf\n",
    "import gensim\n",
    "import re\n",
    "import sqlite3\n",
    "import pickle"
   ]
  },
  {
   "cell_type": "code",
   "execution_count": 2,
   "metadata": {},
   "outputs": [],
   "source": [
    "#Load data from the sqlite database file into a Pandas dataframe\n",
    "cnx = sqlite3.connect('Data/gutenberg/gutenberg.sqlite3')\n",
    "\n",
    "df = pd.read_sql_query(\"SELECT * FROM articles\", cnx)"
   ]
  },
  {
   "cell_type": "code",
   "execution_count": 3,
   "metadata": {},
   "outputs": [],
   "source": []
  },
  {
   "cell_type": "code",
   "execution_count": 3,
   "metadata": {},
   "outputs": [],
   "source": [
    "#Drop index column\n",
    "\n",
    "df.drop(columns=['id'],inplace=True)"
   ]
  },
  {
   "cell_type": "code",
   "execution_count": 4,
   "metadata": {},
   "outputs": [],
   "source": [
    "df['article'] = df['article'].map(lambda x: re.sub('\\r|\\n|\\'','',x))\n",
    "df['article'] = df['article'].map(lambda x: re.sub(r'--\\d\\d\\d-\\d\\d\\d-\\d\\d\\d\\d','',x))\n",
    "df['article'] = df['article'].map(lambda x: re.sub('\\s+',' ',x))"
   ]
  },
  {
   "cell_type": "code",
   "execution_count": 5,
   "metadata": {},
   "outputs": [],
   "source": [
    "from nltk.corpus import stopwords\n",
    "stop_words = set(stopwords.words('english'))\n",
    "stop_words_subset = set([x for x in stop_words if 3 <= len(x) <= 5])"
   ]
  },
  {
   "cell_type": "code",
   "execution_count": 6,
   "metadata": {},
   "outputs": [],
   "source": [
    "def remove_stopwords(x): #x is the string input\n",
    "    word_set = x.split(' ')\n",
    "    for word in word_set:\n",
    "        if word in stop_words:\n",
    "            word_set.remove(word)\n",
    "    return ' '.join(word_set)\n",
    "            \n"
   ]
  },
  {
   "cell_type": "code",
   "execution_count": 7,
   "metadata": {},
   "outputs": [],
   "source": [
    "# Removing stopwords\n",
    "df['article'] = df['article'].map(lambda x: remove_stopwords(x))"
   ]
  },
  {
   "cell_type": "code",
   "execution_count": 25,
   "metadata": {},
   "outputs": [
    {
     "data": {
      "text/plain": [
       "'Twain, Mark'"
      ]
     },
     "execution_count": 25,
     "metadata": {},
     "output_type": "execute_result"
    }
   ],
   "source": [
    "#df['auth_name'].iloc[100]"
   ]
  },
  {
   "cell_type": "code",
   "execution_count": 26,
   "metadata": {},
   "outputs": [],
   "source": []
  },
  {
   "cell_type": "code",
   "execution_count": 9,
   "metadata": {},
   "outputs": [],
   "source": [
    "corpus = str()\n",
    "for row in df['article'].iteritems():\n",
    "    corpus += row[1]"
   ]
  },
  {
   "cell_type": "code",
   "execution_count": 8,
   "metadata": {},
   "outputs": [
    {
     "data": {
      "text/plain": [
       "CountVectorizer(analyzer='word', binary=False, decode_error='strict',\n",
       "        dtype=<class 'numpy.int64'>, encoding='utf-8', input='content',\n",
       "        lowercase=False, max_df=1.0, max_features=None, min_df=0.1,\n",
       "        ngram_range=(1, 1), preprocessor=None, stop_words=None,\n",
       "        strip_accents=None, token_pattern='(?u)\\\\b\\\\w\\\\w+\\\\b',\n",
       "        tokenizer=None, vocabulary=None)"
      ]
     },
     "execution_count": 8,
     "metadata": {},
     "output_type": "execute_result"
    }
   ],
   "source": [
    "from sklearn.feature_extraction.text import CountVectorizer\n",
    "cvectorizer = CountVectorizer(min_df = 0.1, lowercase = False)\n",
    "cvectorizer.fit(df['article'])"
   ]
  },
  {
   "cell_type": "code",
   "execution_count": 11,
   "metadata": {},
   "outputs": [],
   "source": [
    "\n",
    "X = df['article']\n",
    "y = df['auth_name']"
   ]
  },
  {
   "cell_type": "code",
   "execution_count": 12,
   "metadata": {},
   "outputs": [],
   "source": [
    "#Perform train test split:\n",
    "from sklearn.model_selection import train_test_split\n",
    "X_train, X_test, y_train, y_test = train_test_split(X, y,\n",
    "                                                    stratify=y, \n",
    "                                                    test_size=0.25)"
   ]
  },
  {
   "cell_type": "code",
   "execution_count": 13,
   "metadata": {},
   "outputs": [
    {
     "data": {
      "text/plain": [
       "698"
      ]
     },
     "execution_count": 13,
     "metadata": {},
     "output_type": "execute_result"
    }
   ],
   "source": [
    "len(cvectorizer.vocabulary_) #698"
   ]
  },
  {
   "cell_type": "code",
   "execution_count": 14,
   "metadata": {},
   "outputs": [],
   "source": [
    "X_train = cvectorizer.transform(X_train.values)"
   ]
  },
  {
   "cell_type": "code",
   "execution_count": 15,
   "metadata": {},
   "outputs": [],
   "source": [
    "X_test = cvectorizer.transform(X_test.values)"
   ]
  },
  {
   "cell_type": "code",
   "execution_count": 36,
   "metadata": {},
   "outputs": [],
   "source": [
    "#Building the neural network model\n",
    "from tensorflow.keras.models import Sequential\n",
    "from tensorflow.keras import layers\n",
    "from tensorflow.keras.utils import plot_model"
   ]
  },
  {
   "cell_type": "code",
   "execution_count": 43,
   "metadata": {},
   "outputs": [],
   "source": [
    "input_dimension = X_train.shape[1] #This specifies the number of neurons in the input layer, in this case 444\n",
    "\n",
    "#Using Keras' sequential API\n",
    "model = Sequential()\n",
    "model.add(layers.Dense(100, input_dim=input_dimension, activation='relu'))\n",
    "model.add(layers.Dense(42, activation='softmax'))"
   ]
  },
  {
   "cell_type": "code",
   "execution_count": 44,
   "metadata": {},
   "outputs": [],
   "source": [
    "model.compile(loss='categorical_crossentropy', \n",
    "               optimizer= 'adam', \n",
    "            metrics=['accuracy'])"
   ]
  },
  {
   "cell_type": "code",
   "execution_count": 74,
   "metadata": {},
   "outputs": [
    {
     "name": "stdout",
     "output_type": "stream",
     "text": [
      "_________________________________________________________________\n",
      "Layer (type)                 Output Shape              Param #   \n",
      "=================================================================\n",
      "dense_4 (Dense)              (None, 100)               100100    \n",
      "_________________________________________________________________\n",
      "dense_5 (Dense)              (None, 42)                4242      \n",
      "=================================================================\n",
      "Total params: 104,342\n",
      "Trainable params: 104,342\n",
      "Non-trainable params: 0\n",
      "_________________________________________________________________\n"
     ]
    }
   ],
   "source": [
    "model.summary()"
   ]
  },
  {
   "cell_type": "code",
   "execution_count": 40,
   "metadata": {},
   "outputs": [
    {
     "data": {
      "text/plain": [
       "LabelBinarizer(neg_label=0, pos_label=1, sparse_output=False)"
      ]
     },
     "execution_count": 40,
     "metadata": {},
     "output_type": "execute_result"
    }
   ],
   "source": [
    "from sklearn.preprocessing import LabelBinarizer\n",
    "encoder = LabelBinarizer()\n",
    "encoder.fit(df['auth_name'].unique())"
   ]
  },
  {
   "cell_type": "code",
   "execution_count": 41,
   "metadata": {},
   "outputs": [],
   "source": [
    "y_train = encoder.transform(y_train)\n",
    "y_test = encoder.transform(y_test)"
   ]
  },
  {
   "cell_type": "code",
   "execution_count": 46,
   "metadata": {
    "scrolled": true
   },
   "outputs": [
    {
     "name": "stdout",
     "output_type": "stream",
     "text": [
      "Train on 1575 samples, validate on 525 samples\n",
      "Epoch 1/100\n",
      "1575/1575 [==============================] - 8s 5ms/step - loss: 3.5049 - acc: 0.1435 - val_loss: 2.7638 - val_acc: 0.2800\n",
      "Epoch 2/100\n",
      "1575/1575 [==============================] - 1s 780us/step - loss: 1.7419 - acc: 0.5632 - val_loss: 1.8537 - val_acc: 0.4857\n",
      "Epoch 3/100\n",
      "1575/1575 [==============================] - 1s 793us/step - loss: 0.7100 - acc: 0.8686 - val_loss: 1.4452 - val_acc: 0.6457\n",
      "Epoch 4/100\n",
      "1575/1575 [==============================] - 1s 790us/step - loss: 0.2749 - acc: 0.9778 - val_loss: 1.2923 - val_acc: 0.6571\n",
      "Epoch 5/100\n",
      "1575/1575 [==============================] - 1s 797us/step - loss: 0.1289 - acc: 0.9968 - val_loss: 1.1466 - val_acc: 0.6952\n",
      "Epoch 6/100\n",
      "1575/1575 [==============================] - 1s 795us/step - loss: 0.0732 - acc: 0.9975 - val_loss: 1.1119 - val_acc: 0.7105\n",
      "Epoch 7/100\n",
      "1575/1575 [==============================] - 1s 807us/step - loss: 0.0503 - acc: 0.9975 - val_loss: 1.0643 - val_acc: 0.7410\n",
      "Epoch 8/100\n",
      "1575/1575 [==============================] - 1s 810us/step - loss: 0.0372 - acc: 0.9975 - val_loss: 1.0424 - val_acc: 0.7448\n",
      "Epoch 9/100\n",
      "1575/1575 [==============================] - 1s 809us/step - loss: 0.0294 - acc: 0.9975 - val_loss: 1.0296 - val_acc: 0.7410\n",
      "Epoch 10/100\n",
      "1575/1575 [==============================] - 1s 810us/step - loss: 0.0244 - acc: 0.9975 - val_loss: 1.0033 - val_acc: 0.7543\n",
      "Epoch 11/100\n",
      "1575/1575 [==============================] - 1s 779us/step - loss: 0.0210 - acc: 0.9975 - val_loss: 1.0027 - val_acc: 0.7486\n",
      "Epoch 12/100\n",
      "1575/1575 [==============================] - 1s 810us/step - loss: 0.0186 - acc: 0.9975 - val_loss: 0.9910 - val_acc: 0.7581\n",
      "Epoch 13/100\n",
      "1575/1575 [==============================] - 1s 822us/step - loss: 0.0167 - acc: 0.9975 - val_loss: 0.9761 - val_acc: 0.7543\n",
      "Epoch 14/100\n",
      "1575/1575 [==============================] - 1s 803us/step - loss: 0.0153 - acc: 0.9975 - val_loss: 0.9756 - val_acc: 0.7600\n",
      "Epoch 15/100\n",
      "1575/1575 [==============================] - 1s 821us/step - loss: 0.0141 - acc: 0.9975 - val_loss: 0.9716 - val_acc: 0.7505\n",
      "Epoch 16/100\n",
      "1575/1575 [==============================] - 1s 811us/step - loss: 0.0130 - acc: 0.9975 - val_loss: 0.9692 - val_acc: 0.7581\n",
      "Epoch 17/100\n",
      "1575/1575 [==============================] - 1s 803us/step - loss: 0.0122 - acc: 0.9975 - val_loss: 0.9642 - val_acc: 0.7562\n",
      "Epoch 18/100\n",
      "1575/1575 [==============================] - 1s 809us/step - loss: 0.0114 - acc: 0.9975 - val_loss: 0.9649 - val_acc: 0.7600\n",
      "Epoch 19/100\n",
      "1575/1575 [==============================] - 1s 795us/step - loss: 0.0107 - acc: 0.9975 - val_loss: 0.9686 - val_acc: 0.7600\n",
      "Epoch 20/100\n",
      "1575/1575 [==============================] - 1s 782us/step - loss: 0.0101 - acc: 0.9975 - val_loss: 0.9679 - val_acc: 0.7562\n",
      "Epoch 21/100\n",
      "1575/1575 [==============================] - 1s 807us/step - loss: 0.0096 - acc: 0.9975 - val_loss: 0.9637 - val_acc: 0.7581\n",
      "Epoch 22/100\n",
      "1575/1575 [==============================] - 1s 794us/step - loss: 0.0091 - acc: 0.9975 - val_loss: 0.9713 - val_acc: 0.7600\n",
      "Epoch 23/100\n",
      "1575/1575 [==============================] - 1s 798us/step - loss: 0.0087 - acc: 0.9975 - val_loss: 0.9772 - val_acc: 0.7524\n",
      "Epoch 24/100\n",
      "1575/1575 [==============================] - 1s 799us/step - loss: 0.0083 - acc: 0.9975 - val_loss: 0.9747 - val_acc: 0.7524\n",
      "Epoch 25/100\n",
      "1575/1575 [==============================] - 1s 800us/step - loss: 0.0079 - acc: 0.9975 - val_loss: 0.9811 - val_acc: 0.7581\n",
      "Epoch 26/100\n",
      "1575/1575 [==============================] - 1s 816us/step - loss: 0.0076 - acc: 0.9975 - val_loss: 0.9818 - val_acc: 0.7543\n",
      "Epoch 27/100\n",
      "1575/1575 [==============================] - 1s 787us/step - loss: 0.0074 - acc: 0.9975 - val_loss: 0.9881 - val_acc: 0.7619\n",
      "Epoch 28/100\n",
      "1575/1575 [==============================] - 1s 791us/step - loss: 0.0071 - acc: 0.9975 - val_loss: 0.9902 - val_acc: 0.7581\n",
      "Epoch 29/100\n",
      "1575/1575 [==============================] - 1s 794us/step - loss: 0.0069 - acc: 0.9975 - val_loss: 0.9980 - val_acc: 0.7486\n",
      "Epoch 30/100\n",
      "1575/1575 [==============================] - 1s 801us/step - loss: 0.0067 - acc: 0.9975 - val_loss: 0.9928 - val_acc: 0.7562\n",
      "Epoch 31/100\n",
      "1575/1575 [==============================] - 1s 802us/step - loss: 0.0066 - acc: 0.9975 - val_loss: 1.0102 - val_acc: 0.7505\n",
      "Epoch 32/100\n",
      "1575/1575 [==============================] - 1s 820us/step - loss: 0.0064 - acc: 0.9975 - val_loss: 1.0085 - val_acc: 0.7486\n",
      "Epoch 33/100\n",
      "1575/1575 [==============================] - 1s 788us/step - loss: 0.0063 - acc: 0.9975 - val_loss: 1.0211 - val_acc: 0.7467\n",
      "Epoch 34/100\n",
      "1575/1575 [==============================] - 1s 797us/step - loss: 0.0062 - acc: 0.9975 - val_loss: 1.0215 - val_acc: 0.7505\n",
      "Epoch 35/100\n",
      "1575/1575 [==============================] - 1s 800us/step - loss: 0.0061 - acc: 0.9975 - val_loss: 1.0285 - val_acc: 0.7448\n",
      "Epoch 36/100\n",
      "1575/1575 [==============================] - 1s 791us/step - loss: 0.0060 - acc: 0.9975 - val_loss: 1.0350 - val_acc: 0.7505\n",
      "Epoch 37/100\n",
      "1575/1575 [==============================] - 1s 799us/step - loss: 0.0059 - acc: 0.9975 - val_loss: 1.0455 - val_acc: 0.7448\n",
      "Epoch 38/100\n",
      "1575/1575 [==============================] - 1s 793us/step - loss: 0.0059 - acc: 0.9975 - val_loss: 1.0503 - val_acc: 0.7524\n",
      "Epoch 39/100\n",
      "1575/1575 [==============================] - 1s 788us/step - loss: 0.0058 - acc: 0.9975 - val_loss: 1.0536 - val_acc: 0.7467\n",
      "Epoch 40/100\n",
      "1575/1575 [==============================] - 1s 775us/step - loss: 0.0058 - acc: 0.9975 - val_loss: 1.0642 - val_acc: 0.7486\n",
      "Epoch 41/100\n",
      "1575/1575 [==============================] - 1s 799us/step - loss: 0.0057 - acc: 0.9975 - val_loss: 1.0740 - val_acc: 0.7448\n",
      "Epoch 42/100\n",
      "1575/1575 [==============================] - 1s 793us/step - loss: 0.0057 - acc: 0.9975 - val_loss: 1.0735 - val_acc: 0.7429\n",
      "Epoch 43/100\n",
      "1575/1575 [==============================] - 1s 778us/step - loss: 0.0057 - acc: 0.9975 - val_loss: 1.0789 - val_acc: 0.7448\n",
      "Epoch 44/100\n",
      "1575/1575 [==============================] - 1s 791us/step - loss: 0.0057 - acc: 0.9968 - val_loss: 1.0901 - val_acc: 0.7486\n",
      "Epoch 45/100\n",
      "1575/1575 [==============================] - 1s 784us/step - loss: 0.0056 - acc: 0.9975 - val_loss: 1.0986 - val_acc: 0.7448\n",
      "Epoch 46/100\n",
      "1575/1575 [==============================] - 1s 800us/step - loss: 0.0056 - acc: 0.9968 - val_loss: 1.1172 - val_acc: 0.7467\n",
      "Epoch 47/100\n",
      "1575/1575 [==============================] - 1s 794us/step - loss: 0.0056 - acc: 0.9968 - val_loss: 1.1114 - val_acc: 0.7390\n",
      "Epoch 48/100\n",
      "1575/1575 [==============================] - 1s 779us/step - loss: 0.0055 - acc: 0.9968 - val_loss: 1.1298 - val_acc: 0.7467\n",
      "Epoch 49/100\n",
      "1575/1575 [==============================] - 1s 788us/step - loss: 0.0055 - acc: 0.9968 - val_loss: 1.1332 - val_acc: 0.7390\n",
      "Epoch 50/100\n",
      "1575/1575 [==============================] - 1s 773us/step - loss: 0.0055 - acc: 0.9968 - val_loss: 1.1295 - val_acc: 0.7410\n",
      "Epoch 51/100\n",
      "1575/1575 [==============================] - 1s 789us/step - loss: 0.0055 - acc: 0.9968 - val_loss: 1.1570 - val_acc: 0.7352\n",
      "Epoch 52/100\n",
      "1575/1575 [==============================] - 1s 780us/step - loss: 0.0055 - acc: 0.9968 - val_loss: 1.1578 - val_acc: 0.7352\n",
      "Epoch 53/100\n",
      "1575/1575 [==============================] - 1s 795us/step - loss: 0.0055 - acc: 0.9968 - val_loss: 1.1562 - val_acc: 0.7410\n",
      "Epoch 54/100\n",
      "1575/1575 [==============================] - 1s 775us/step - loss: 0.0055 - acc: 0.9968 - val_loss: 1.1757 - val_acc: 0.7371\n",
      "Epoch 55/100\n",
      "1575/1575 [==============================] - 1s 796us/step - loss: 0.0055 - acc: 0.9975 - val_loss: 1.1693 - val_acc: 0.7390\n",
      "Epoch 56/100\n",
      "1575/1575 [==============================] - 1s 791us/step - loss: 0.0055 - acc: 0.9975 - val_loss: 1.1720 - val_acc: 0.7410\n",
      "Epoch 57/100\n",
      "1575/1575 [==============================] - 1s 799us/step - loss: 0.0055 - acc: 0.9975 - val_loss: 1.1706 - val_acc: 0.7429\n",
      "Epoch 58/100\n",
      "1575/1575 [==============================] - 1s 778us/step - loss: 0.0055 - acc: 0.9975 - val_loss: 1.2044 - val_acc: 0.7352\n",
      "Epoch 59/100\n",
      "1575/1575 [==============================] - 1s 778us/step - loss: 0.0055 - acc: 0.9968 - val_loss: 1.1920 - val_acc: 0.7429\n",
      "Epoch 60/100\n",
      "1575/1575 [==============================] - 1s 786us/step - loss: 0.0054 - acc: 0.9968 - val_loss: 1.1997 - val_acc: 0.7429\n",
      "Epoch 61/100\n",
      "1575/1575 [==============================] - 1s 743us/step - loss: 0.0054 - acc: 0.9968 - val_loss: 1.2091 - val_acc: 0.7371\n",
      "Epoch 62/100\n",
      "1575/1575 [==============================] - 1s 765us/step - loss: 0.0054 - acc: 0.9975 - val_loss: 1.2319 - val_acc: 0.7371\n",
      "Epoch 63/100\n",
      "1575/1575 [==============================] - 1s 740us/step - loss: 0.0054 - acc: 0.9968 - val_loss: 1.2223 - val_acc: 0.7371\n",
      "Epoch 64/100\n",
      "1575/1575 [==============================] - 1s 748us/step - loss: 0.0054 - acc: 0.9968 - val_loss: 1.2464 - val_acc: 0.7314\n",
      "Epoch 65/100\n",
      "1575/1575 [==============================] - 1s 764us/step - loss: 0.0054 - acc: 0.9968 - val_loss: 1.2464 - val_acc: 0.7410\n",
      "Epoch 66/100\n",
      "1575/1575 [==============================] - 1s 745us/step - loss: 0.0054 - acc: 0.9968 - val_loss: 1.2769 - val_acc: 0.7371\n",
      "Epoch 67/100\n",
      "1575/1575 [==============================] - 1s 776us/step - loss: 0.0054 - acc: 0.9968 - val_loss: 1.2610 - val_acc: 0.7314\n",
      "Epoch 68/100\n",
      "1575/1575 [==============================] - 1s 740us/step - loss: 0.0054 - acc: 0.9968 - val_loss: 1.2703 - val_acc: 0.7429\n",
      "Epoch 69/100\n",
      "1575/1575 [==============================] - 1s 755us/step - loss: 0.0054 - acc: 0.9968 - val_loss: 1.2778 - val_acc: 0.7410\n",
      "Epoch 70/100\n",
      "1575/1575 [==============================] - 1s 755us/step - loss: 0.0054 - acc: 0.9968 - val_loss: 1.2800 - val_acc: 0.7410\n",
      "Epoch 71/100\n",
      "1575/1575 [==============================] - 1s 766us/step - loss: 0.0054 - acc: 0.9968 - val_loss: 1.2913 - val_acc: 0.7429\n",
      "Epoch 72/100\n",
      "1575/1575 [==============================] - 1s 768us/step - loss: 0.0054 - acc: 0.9968 - val_loss: 1.2999 - val_acc: 0.7390\n",
      "Epoch 73/100\n",
      "1575/1575 [==============================] - 1s 763us/step - loss: 0.0054 - acc: 0.9968 - val_loss: 1.3344 - val_acc: 0.7390\n",
      "Epoch 74/100\n",
      "1575/1575 [==============================] - 1s 777us/step - loss: 0.0054 - acc: 0.9968 - val_loss: 1.3212 - val_acc: 0.7410\n",
      "Epoch 75/100\n",
      "1575/1575 [==============================] - 1s 764us/step - loss: 0.0054 - acc: 0.9968 - val_loss: 1.3357 - val_acc: 0.7371\n",
      "Epoch 76/100\n",
      "1575/1575 [==============================] - 1s 737us/step - loss: 0.0054 - acc: 0.9975 - val_loss: 1.3351 - val_acc: 0.7314\n",
      "Epoch 77/100\n",
      "1575/1575 [==============================] - 1s 763us/step - loss: 0.0054 - acc: 0.9975 - val_loss: 1.3578 - val_acc: 0.7352\n",
      "Epoch 78/100\n",
      "1575/1575 [==============================] - 1s 748us/step - loss: 0.0054 - acc: 0.9968 - val_loss: 1.3735 - val_acc: 0.7314\n",
      "Epoch 79/100\n",
      "1575/1575 [==============================] - 1s 752us/step - loss: 0.0053 - acc: 0.9968 - val_loss: 1.3984 - val_acc: 0.7371\n",
      "Epoch 80/100\n",
      "1575/1575 [==============================] - 1s 759us/step - loss: 0.0054 - acc: 0.9968 - val_loss: 1.3862 - val_acc: 0.7314\n",
      "Epoch 81/100\n",
      "1575/1575 [==============================] - 1s 765us/step - loss: 0.0054 - acc: 0.9968 - val_loss: 1.4003 - val_acc: 0.7333\n",
      "Epoch 82/100\n",
      "1575/1575 [==============================] - 1s 764us/step - loss: 0.0054 - acc: 0.9968 - val_loss: 1.4101 - val_acc: 0.7333\n",
      "Epoch 83/100\n",
      "1575/1575 [==============================] - 1s 756us/step - loss: 0.0053 - acc: 0.9968 - val_loss: 1.4136 - val_acc: 0.7295\n",
      "Epoch 84/100\n",
      "1575/1575 [==============================] - 1s 767us/step - loss: 0.0054 - acc: 0.9968 - val_loss: 1.4275 - val_acc: 0.7257\n",
      "Epoch 85/100\n",
      "1575/1575 [==============================] - 1s 773us/step - loss: 0.0054 - acc: 0.9968 - val_loss: 1.4427 - val_acc: 0.7219\n",
      "Epoch 86/100\n",
      "1575/1575 [==============================] - 1s 751us/step - loss: 0.0053 - acc: 0.9968 - val_loss: 1.4684 - val_acc: 0.7314\n",
      "Epoch 87/100\n",
      "1575/1575 [==============================] - 1s 758us/step - loss: 0.0053 - acc: 0.9968 - val_loss: 1.4577 - val_acc: 0.7276\n",
      "Epoch 88/100\n",
      "1575/1575 [==============================] - 1s 745us/step - loss: 0.0054 - acc: 0.9968 - val_loss: 1.4817 - val_acc: 0.7257\n",
      "Epoch 89/100\n",
      "1575/1575 [==============================] - 1s 750us/step - loss: 0.0053 - acc: 0.9968 - val_loss: 1.4833 - val_acc: 0.7200\n",
      "Epoch 90/100\n",
      "1575/1575 [==============================] - 1s 750us/step - loss: 0.0053 - acc: 0.9968 - val_loss: 1.5107 - val_acc: 0.7162\n",
      "Epoch 91/100\n",
      "1575/1575 [==============================] - 1s 741us/step - loss: 0.0053 - acc: 0.9975 - val_loss: 1.5022 - val_acc: 0.7295\n",
      "Epoch 92/100\n",
      "1575/1575 [==============================] - 1s 763us/step - loss: 0.0054 - acc: 0.9968 - val_loss: 1.5250 - val_acc: 0.7162\n",
      "Epoch 93/100\n",
      "1575/1575 [==============================] - 1s 740us/step - loss: 0.0054 - acc: 0.9968 - val_loss: 1.5515 - val_acc: 0.7181\n",
      "Epoch 94/100\n",
      "1575/1575 [==============================] - 1s 758us/step - loss: 0.0053 - acc: 0.9975 - val_loss: 1.5511 - val_acc: 0.7162\n",
      "Epoch 95/100\n",
      "1575/1575 [==============================] - 1s 761us/step - loss: 0.0053 - acc: 0.9968 - val_loss: 1.5527 - val_acc: 0.7162\n",
      "Epoch 96/100\n",
      "1575/1575 [==============================] - 1s 730us/step - loss: 0.0053 - acc: 0.9968 - val_loss: 1.5708 - val_acc: 0.7105\n",
      "Epoch 97/100\n",
      "1575/1575 [==============================] - 1s 766us/step - loss: 0.0053 - acc: 0.9975 - val_loss: 1.5753 - val_acc: 0.7143\n",
      "Epoch 98/100\n",
      "1575/1575 [==============================] - 1s 735us/step - loss: 0.0053 - acc: 0.9968 - val_loss: 1.5895 - val_acc: 0.7162\n",
      "Epoch 99/100\n",
      "1575/1575 [==============================] - 1s 741us/step - loss: 0.0053 - acc: 0.9968 - val_loss: 1.5976 - val_acc: 0.7143\n",
      "Epoch 100/100\n",
      "1575/1575 [==============================] - 1s 737us/step - loss: 0.0053 - acc: 0.9968 - val_loss: 1.6090 - val_acc: 0.7162\n"
     ]
    }
   ],
   "source": [
    "model_details = model.fit(X_train, y_train,\n",
    "                     epochs=100,\n",
    "                     verbose=True,\n",
    "                     validation_data=(X_test, y_test),\n",
    "                    batch_size=10)"
   ]
  },
  {
   "cell_type": "code",
   "execution_count": 48,
   "metadata": {},
   "outputs": [
    {
     "name": "stdout",
     "output_type": "stream",
     "text": [
      "Testing Accuracy:  0.7162\n"
     ]
    }
   ],
   "source": [
    "loss, accuracy = model.evaluate(X_test, y_test, verbose=False)\n",
    "print(\"Testing Accuracy:  {:.4f}\".format(accuracy))"
   ]
  },
  {
   "cell_type": "markdown",
   "metadata": {},
   "source": [
    "A SINGLE HIDDEN LAYER NEURAL NETWORK ARCHITECTURE APPLIED WITH SIMPLE BAG-OF_WORDS VECTORIZATION ONLY YIELDS A 70% ACCURACY"
   ]
  },
  {
   "cell_type": "code",
   "execution_count": null,
   "metadata": {},
   "outputs": [],
   "source": []
  },
  {
   "cell_type": "code",
   "execution_count": null,
   "metadata": {},
   "outputs": [],
   "source": []
  },
  {
   "cell_type": "code",
   "execution_count": null,
   "metadata": {},
   "outputs": [],
   "source": []
  },
  {
   "cell_type": "code",
   "execution_count": null,
   "metadata": {},
   "outputs": [],
   "source": []
  },
  {
   "cell_type": "code",
   "execution_count": null,
   "metadata": {},
   "outputs": [],
   "source": []
  },
  {
   "cell_type": "code",
   "execution_count": null,
   "metadata": {},
   "outputs": [],
   "source": []
  },
  {
   "cell_type": "markdown",
   "metadata": {},
   "source": [
    "LEARNING THE DATA WITH THE SAME NEURAL NETWORK ARCHITECTURE BUT WITH TF-IDF VECTORIZATION THIS TIME."
   ]
  },
  {
   "cell_type": "code",
   "execution_count": null,
   "metadata": {},
   "outputs": [],
   "source": [
    "#Taking both unigrams and bigrams"
   ]
  },
  {
   "cell_type": "code",
   "execution_count": 57,
   "metadata": {},
   "outputs": [],
   "source": [
    "from sklearn.feature_extraction.text import TfidfVectorizer\n",
    "vectorizer = TfidfVectorizer(ngram_range = (1,2),max_features = 1000)\n",
    "X = vectorizer.fit_transform(corpus.split(' ')) #Tfidf Vectorizer accepts a list of strings as input"
   ]
  },
  {
   "cell_type": "code",
   "execution_count": 58,
   "metadata": {},
   "outputs": [],
   "source": [
    "X = vectorizer.transform(list(df['article']))"
   ]
  },
  {
   "cell_type": "code",
   "execution_count": 59,
   "metadata": {},
   "outputs": [
    {
     "data": {
      "text/plain": [
       "(2100, 1000)"
      ]
     },
     "execution_count": 59,
     "metadata": {},
     "output_type": "execute_result"
    }
   ],
   "source": [
    "X.toarray().shape"
   ]
  },
  {
   "cell_type": "code",
   "execution_count": 69,
   "metadata": {},
   "outputs": [],
   "source": [
    "y_train = encoder.transform(y_train)\n",
    "y_test = encoder.transform(y_test)"
   ]
  },
  {
   "cell_type": "code",
   "execution_count": 72,
   "metadata": {},
   "outputs": [
    {
     "data": {
      "text/plain": [
       "(1575, 1000)"
      ]
     },
     "execution_count": 72,
     "metadata": {},
     "output_type": "execute_result"
    }
   ],
   "source": [
    "X_train.shape"
   ]
  },
  {
   "cell_type": "code",
   "execution_count": null,
   "metadata": {},
   "outputs": [],
   "source": []
  },
  {
   "cell_type": "code",
   "execution_count": null,
   "metadata": {},
   "outputs": [],
   "source": []
  },
  {
   "cell_type": "code",
   "execution_count": null,
   "metadata": {},
   "outputs": [],
   "source": []
  },
  {
   "cell_type": "code",
   "execution_count": null,
   "metadata": {},
   "outputs": [],
   "source": []
  },
  {
   "cell_type": "code",
   "execution_count": 16,
   "metadata": {},
   "outputs": [],
   "source": []
  },
  {
   "cell_type": "code",
   "execution_count": 75,
   "metadata": {},
   "outputs": [],
   "source": [
    "input_dimension = X_train.shape[1] #This specifies the number of neurons in the input layer, in this case 444\n",
    "#Using Keras' sequential API\n",
    "model = Sequential()\n",
    "model.add(layers.Dense(100, input_dim=input_dimension, activation='relu'))\n",
    "model.add(layers.Dense(42, activation='softmax'))"
   ]
  },
  {
   "cell_type": "code",
   "execution_count": 76,
   "metadata": {},
   "outputs": [],
   "source": [
    "model.compile(loss='categorical_crossentropy', optimizer='adam', metrics=['accuracy'])"
   ]
  },
  {
   "cell_type": "code",
   "execution_count": 82,
   "metadata": {},
   "outputs": [
    {
     "name": "stdout",
     "output_type": "stream",
     "text": [
      "Train on 1575 samples, validate on 525 samples\n",
      "Epoch 1/100\n",
      "1575/1575 [==============================] - 2s 1ms/step - loss: 3.6761 - acc: 0.1206 - val_loss: 3.5510 - val_acc: 0.2629\n",
      "Epoch 2/100\n",
      "1575/1575 [==============================] - 1s 627us/step - loss: 3.3379 - acc: 0.3962 - val_loss: 3.1657 - val_acc: 0.4133\n",
      "Epoch 3/100\n",
      "1575/1575 [==============================] - 1s 624us/step - loss: 2.8271 - acc: 0.5822 - val_loss: 2.7200 - val_acc: 0.5314\n",
      "Epoch 4/100\n",
      "1575/1575 [==============================] - 1s 629us/step - loss: 2.3017 - acc: 0.7054 - val_loss: 2.3377 - val_acc: 0.6152\n",
      "Epoch 5/100\n",
      "1575/1575 [==============================] - 1s 618us/step - loss: 1.8513 - acc: 0.7829 - val_loss: 2.0230 - val_acc: 0.6629\n",
      "Epoch 6/100\n",
      "1575/1575 [==============================] - 1s 624us/step - loss: 1.4714 - acc: 0.8489 - val_loss: 1.7718 - val_acc: 0.7029\n",
      "Epoch 7/100\n",
      "1575/1575 [==============================] - 1s 776us/step - loss: 1.1664 - acc: 0.8990 - val_loss: 1.5777 - val_acc: 0.7124\n",
      "Epoch 8/100\n",
      "1575/1575 [==============================] - 1s 635us/step - loss: 0.9250 - acc: 0.9352 - val_loss: 1.4063 - val_acc: 0.7638\n",
      "Epoch 9/100\n",
      "1575/1575 [==============================] - 1s 792us/step - loss: 0.7328 - acc: 0.9543 - val_loss: 1.2741 - val_acc: 0.7695\n",
      "Epoch 10/100\n",
      "1575/1575 [==============================] - 1s 637us/step - loss: 0.5792 - acc: 0.9695 - val_loss: 1.1676 - val_acc: 0.7886\n",
      "Epoch 11/100\n",
      "1575/1575 [==============================] - 1s 641us/step - loss: 0.4607 - acc: 0.9841 - val_loss: 1.0818 - val_acc: 0.7943\n",
      "Epoch 12/100\n",
      "1575/1575 [==============================] - 1s 628us/step - loss: 0.3700 - acc: 0.9905 - val_loss: 1.0043 - val_acc: 0.8057\n",
      "Epoch 13/100\n",
      "1575/1575 [==============================] - 1s 638us/step - loss: 0.2967 - acc: 0.9956 - val_loss: 0.9507 - val_acc: 0.8114\n",
      "Epoch 14/100\n",
      "1575/1575 [==============================] - 1s 638us/step - loss: 0.2395 - acc: 0.9968 - val_loss: 0.9064 - val_acc: 0.8095\n",
      "Epoch 15/100\n",
      "1575/1575 [==============================] - 1s 641us/step - loss: 0.1954 - acc: 0.9994 - val_loss: 0.8569 - val_acc: 0.8190\n",
      "Epoch 16/100\n",
      "1575/1575 [==============================] - 1s 636us/step - loss: 0.1600 - acc: 0.9994 - val_loss: 0.8170 - val_acc: 0.8324\n",
      "Epoch 17/100\n",
      "1575/1575 [==============================] - 1s 640us/step - loss: 0.1313 - acc: 0.9994 - val_loss: 0.7898 - val_acc: 0.8343\n",
      "Epoch 18/100\n",
      "1575/1575 [==============================] - 1s 809us/step - loss: 0.1106 - acc: 0.9994 - val_loss: 0.7645 - val_acc: 0.8362\n",
      "Epoch 19/100\n",
      "1575/1575 [==============================] - 1s 639us/step - loss: 0.0927 - acc: 0.9994 - val_loss: 0.7425 - val_acc: 0.8343\n",
      "Epoch 20/100\n",
      "1575/1575 [==============================] - 1s 766us/step - loss: 0.0783 - acc: 0.9994 - val_loss: 0.7195 - val_acc: 0.8343\n",
      "Epoch 21/100\n",
      "1575/1575 [==============================] - 1s 740us/step - loss: 0.0670 - acc: 0.9994 - val_loss: 0.6982 - val_acc: 0.8400\n",
      "Epoch 22/100\n",
      "1575/1575 [==============================] - 1s 626us/step - loss: 0.0577 - acc: 0.9994 - val_loss: 0.6779 - val_acc: 0.8533\n",
      "Epoch 23/100\n",
      "1575/1575 [==============================] - 1s 628us/step - loss: 0.0500 - acc: 0.9994 - val_loss: 0.6686 - val_acc: 0.8400\n",
      "Epoch 24/100\n",
      "1575/1575 [==============================] - 1s 629us/step - loss: 0.0436 - acc: 0.9994 - val_loss: 0.6505 - val_acc: 0.8476\n",
      "Epoch 25/100\n",
      "1575/1575 [==============================] - 1s 666us/step - loss: 0.0382 - acc: 0.9994 - val_loss: 0.6405 - val_acc: 0.8514\n",
      "Epoch 26/100\n",
      "1575/1575 [==============================] - 1s 659us/step - loss: 0.0337 - acc: 0.9994 - val_loss: 0.6297 - val_acc: 0.8438\n",
      "Epoch 27/100\n",
      "1575/1575 [==============================] - 1s 640us/step - loss: 0.0299 - acc: 0.9994 - val_loss: 0.6193 - val_acc: 0.8533\n",
      "Epoch 28/100\n",
      "1575/1575 [==============================] - 1s 649us/step - loss: 0.0266 - acc: 0.9994 - val_loss: 0.6066 - val_acc: 0.8571\n",
      "Epoch 29/100\n",
      "1575/1575 [==============================] - 1s 676us/step - loss: 0.0237 - acc: 0.9994 - val_loss: 0.5993 - val_acc: 0.8533\n",
      "Epoch 30/100\n",
      "1575/1575 [==============================] - 1s 664us/step - loss: 0.0212 - acc: 0.9994 - val_loss: 0.5908 - val_acc: 0.8514\n",
      "Epoch 31/100\n",
      "1575/1575 [==============================] - 1s 693us/step - loss: 0.0191 - acc: 0.9994 - val_loss: 0.5849 - val_acc: 0.8533\n",
      "Epoch 32/100\n",
      "1575/1575 [==============================] - 1s 690us/step - loss: 0.0172 - acc: 0.9994 - val_loss: 0.5780 - val_acc: 0.8533\n",
      "Epoch 33/100\n",
      "1575/1575 [==============================] - 1s 666us/step - loss: 0.0155 - acc: 0.9994 - val_loss: 0.5752 - val_acc: 0.8552\n",
      "Epoch 34/100\n",
      "1575/1575 [==============================] - 1s 689us/step - loss: 0.0140 - acc: 0.9994 - val_loss: 0.5658 - val_acc: 0.8571\n",
      "Epoch 35/100\n",
      "1575/1575 [==============================] - 1s 707us/step - loss: 0.0127 - acc: 0.9994 - val_loss: 0.5592 - val_acc: 0.8571\n",
      "Epoch 36/100\n",
      "1575/1575 [==============================] - 1s 655us/step - loss: 0.0116 - acc: 0.9994 - val_loss: 0.5526 - val_acc: 0.8629\n",
      "Epoch 37/100\n",
      "1575/1575 [==============================] - 1s 650us/step - loss: 0.0106 - acc: 0.9994 - val_loss: 0.5478 - val_acc: 0.8552\n",
      "Epoch 38/100\n",
      "1575/1575 [==============================] - 1s 648us/step - loss: 0.0096 - acc: 0.9994 - val_loss: 0.5460 - val_acc: 0.8629\n",
      "Epoch 39/100\n",
      "1575/1575 [==============================] - 1s 651us/step - loss: 0.0088 - acc: 0.9994 - val_loss: 0.5396 - val_acc: 0.8533\n",
      "Epoch 40/100\n",
      "1575/1575 [==============================] - 1s 645us/step - loss: 0.0080 - acc: 0.9994 - val_loss: 0.5381 - val_acc: 0.8552\n",
      "Epoch 41/100\n",
      "1575/1575 [==============================] - 1s 645us/step - loss: 0.0073 - acc: 0.9994 - val_loss: 0.5306 - val_acc: 0.8610\n",
      "Epoch 42/100\n",
      "1575/1575 [==============================] - 1s 645us/step - loss: 0.0068 - acc: 0.9994 - val_loss: 0.5277 - val_acc: 0.8571\n",
      "Epoch 43/100\n",
      "1575/1575 [==============================] - 1s 646us/step - loss: 0.0063 - acc: 0.9994 - val_loss: 0.5258 - val_acc: 0.8571\n",
      "Epoch 44/100\n",
      "1575/1575 [==============================] - 1s 640us/step - loss: 0.0058 - acc: 0.9994 - val_loss: 0.5194 - val_acc: 0.8571\n",
      "Epoch 45/100\n",
      "1575/1575 [==============================] - 1s 652us/step - loss: 0.0053 - acc: 0.9994 - val_loss: 0.5173 - val_acc: 0.8571\n",
      "Epoch 46/100\n",
      "1575/1575 [==============================] - 1s 638us/step - loss: 0.0049 - acc: 0.9994 - val_loss: 0.5151 - val_acc: 0.8667\n",
      "Epoch 47/100\n",
      "1575/1575 [==============================] - 1s 649us/step - loss: 0.0046 - acc: 0.9987 - val_loss: 0.5107 - val_acc: 0.8571\n",
      "Epoch 48/100\n",
      "1575/1575 [==============================] - 1s 648us/step - loss: 0.0043 - acc: 0.9994 - val_loss: 0.5099 - val_acc: 0.8533\n",
      "Epoch 49/100\n",
      "1575/1575 [==============================] - 1s 652us/step - loss: 0.0040 - acc: 0.9987 - val_loss: 0.5041 - val_acc: 0.8571\n",
      "Epoch 50/100\n",
      "1575/1575 [==============================] - 1s 659us/step - loss: 0.0037 - acc: 0.9987 - val_loss: 0.5050 - val_acc: 0.8629\n",
      "Epoch 51/100\n",
      "1575/1575 [==============================] - 1s 643us/step - loss: 0.0035 - acc: 0.9987 - val_loss: 0.5035 - val_acc: 0.8590\n",
      "Epoch 52/100\n",
      "1575/1575 [==============================] - 1s 643us/step - loss: 0.0033 - acc: 0.9987 - val_loss: 0.5019 - val_acc: 0.8571\n",
      "Epoch 53/100\n",
      "1575/1575 [==============================] - 1s 605us/step - loss: 0.0031 - acc: 0.9994 - val_loss: 0.5024 - val_acc: 0.8552\n",
      "Epoch 54/100\n",
      "1575/1575 [==============================] - 1s 598us/step - loss: 0.0029 - acc: 0.9994 - val_loss: 0.5035 - val_acc: 0.8590\n",
      "Epoch 55/100\n",
      "1575/1575 [==============================] - 1s 595us/step - loss: 0.0027 - acc: 0.9987 - val_loss: 0.4937 - val_acc: 0.8552\n",
      "Epoch 56/100\n",
      "1575/1575 [==============================] - 1s 598us/step - loss: 0.0026 - acc: 0.9994 - val_loss: 0.4951 - val_acc: 0.8590\n",
      "Epoch 57/100\n",
      "1575/1575 [==============================] - 1s 597us/step - loss: 0.0025 - acc: 0.9994 - val_loss: 0.4953 - val_acc: 0.8629\n",
      "Epoch 58/100\n",
      "1575/1575 [==============================] - 1s 817us/step - loss: 0.0024 - acc: 0.9987 - val_loss: 0.4882 - val_acc: 0.8571\n",
      "Epoch 59/100\n",
      "1575/1575 [==============================] - 1s 855us/step - loss: 0.0022 - acc: 0.9994 - val_loss: 0.4874 - val_acc: 0.8590\n",
      "Epoch 60/100\n",
      "1575/1575 [==============================] - 1s 738us/step - loss: 0.0021 - acc: 0.9994 - val_loss: 0.4888 - val_acc: 0.8571\n",
      "Epoch 61/100\n",
      "1575/1575 [==============================] - 1s 757us/step - loss: 0.0020 - acc: 0.9987 - val_loss: 0.4875 - val_acc: 0.8610\n",
      "Epoch 62/100\n",
      "1575/1575 [==============================] - 2s 1ms/step - loss: 0.0020 - acc: 0.9994 - val_loss: 0.4824 - val_acc: 0.8552\n",
      "Epoch 63/100\n",
      "1575/1575 [==============================] - 1s 636us/step - loss: 0.0019 - acc: 0.9987 - val_loss: 0.4829 - val_acc: 0.8571\n",
      "Epoch 64/100\n",
      "1575/1575 [==============================] - 1s 657us/step - loss: 0.0018 - acc: 0.9987 - val_loss: 0.4813 - val_acc: 0.8590\n",
      "Epoch 65/100\n",
      "1575/1575 [==============================] - 2s 1ms/step - loss: 0.0018 - acc: 0.9987 - val_loss: 0.4800 - val_acc: 0.8610\n",
      "Epoch 66/100\n",
      "1575/1575 [==============================] - 1s 745us/step - loss: 0.0017 - acc: 0.9994 - val_loss: 0.4801 - val_acc: 0.8629\n",
      "Epoch 67/100\n",
      "1575/1575 [==============================] - 1s 603us/step - loss: 0.0017 - acc: 0.9994 - val_loss: 0.4840 - val_acc: 0.8590\n",
      "Epoch 68/100\n",
      "1575/1575 [==============================] - 1s 610us/step - loss: 0.0015 - acc: 0.9994 - val_loss: 0.4795 - val_acc: 0.8629\n",
      "Epoch 69/100\n",
      "1575/1575 [==============================] - 1s 595us/step - loss: 0.0015 - acc: 0.9987 - val_loss: 0.4780 - val_acc: 0.8590\n",
      "Epoch 70/100\n",
      "1575/1575 [==============================] - 1s 602us/step - loss: 0.0015 - acc: 0.9987 - val_loss: 0.4756 - val_acc: 0.8610\n",
      "Epoch 71/100\n",
      "1575/1575 [==============================] - 1s 600us/step - loss: 0.0014 - acc: 0.9987 - val_loss: 0.4748 - val_acc: 0.8571\n",
      "Epoch 72/100\n",
      "1575/1575 [==============================] - 1s 593us/step - loss: 0.0014 - acc: 0.9994 - val_loss: 0.4760 - val_acc: 0.8648\n",
      "Epoch 73/100\n",
      "1575/1575 [==============================] - 1s 591us/step - loss: 0.0014 - acc: 0.9994 - val_loss: 0.4752 - val_acc: 0.8590\n",
      "Epoch 74/100\n",
      "1575/1575 [==============================] - 1s 594us/step - loss: 0.0014 - acc: 0.9987 - val_loss: 0.4788 - val_acc: 0.8610\n",
      "Epoch 75/100\n",
      "1575/1575 [==============================] - 1s 595us/step - loss: 0.0014 - acc: 0.9987 - val_loss: 0.4807 - val_acc: 0.8610\n",
      "Epoch 76/100\n",
      "1575/1575 [==============================] - 1s 595us/step - loss: 0.0014 - acc: 0.9994 - val_loss: 0.4755 - val_acc: 0.8571\n",
      "Epoch 77/100\n",
      "1575/1575 [==============================] - 1s 594us/step - loss: 0.0013 - acc: 0.9987 - val_loss: 0.4776 - val_acc: 0.8610\n",
      "Epoch 78/100\n",
      "1575/1575 [==============================] - 1s 595us/step - loss: 0.0013 - acc: 0.9987 - val_loss: 0.4763 - val_acc: 0.8629\n",
      "Epoch 79/100\n",
      "1575/1575 [==============================] - 1s 592us/step - loss: 0.0013 - acc: 0.9987 - val_loss: 0.4749 - val_acc: 0.8610\n",
      "Epoch 80/100\n",
      "1575/1575 [==============================] - 1s 590us/step - loss: 0.0013 - acc: 0.9987 - val_loss: 0.4758 - val_acc: 0.8667\n",
      "Epoch 81/100\n",
      "1575/1575 [==============================] - 1s 593us/step - loss: 0.0013 - acc: 0.9994 - val_loss: 0.4717 - val_acc: 0.8629\n",
      "Epoch 82/100\n",
      "1575/1575 [==============================] - 1s 593us/step - loss: 0.0012 - acc: 0.9987 - val_loss: 0.4734 - val_acc: 0.8629\n",
      "Epoch 83/100\n",
      "1575/1575 [==============================] - 1s 595us/step - loss: 0.0012 - acc: 0.9994 - val_loss: 0.4769 - val_acc: 0.8648\n",
      "Epoch 84/100\n",
      "1575/1575 [==============================] - 1s 593us/step - loss: 0.0011 - acc: 0.9994 - val_loss: 0.4741 - val_acc: 0.8667\n",
      "Epoch 85/100\n",
      "1575/1575 [==============================] - 1s 590us/step - loss: 0.0012 - acc: 0.9987 - val_loss: 0.4742 - val_acc: 0.8629\n",
      "Epoch 86/100\n",
      "1575/1575 [==============================] - 1s 597us/step - loss: 0.0012 - acc: 0.9987 - val_loss: 0.4768 - val_acc: 0.8648\n",
      "Epoch 87/100\n",
      "1575/1575 [==============================] - 1s 596us/step - loss: 0.0012 - acc: 0.9987 - val_loss: 0.4780 - val_acc: 0.8629\n",
      "Epoch 88/100\n",
      "1575/1575 [==============================] - 1s 596us/step - loss: 0.0012 - acc: 0.9987 - val_loss: 0.4756 - val_acc: 0.8610\n",
      "Epoch 89/100\n",
      "1575/1575 [==============================] - 1s 598us/step - loss: 0.0012 - acc: 0.9994 - val_loss: 0.4725 - val_acc: 0.8629\n",
      "Epoch 90/100\n",
      "1575/1575 [==============================] - 1s 624us/step - loss: 0.0011 - acc: 0.9987 - val_loss: 0.4739 - val_acc: 0.8648\n",
      "Epoch 91/100\n",
      "1575/1575 [==============================] - 1s 595us/step - loss: 0.0011 - acc: 0.9994 - val_loss: 0.4740 - val_acc: 0.8667\n",
      "Epoch 92/100\n",
      "1575/1575 [==============================] - 1s 600us/step - loss: 0.0011 - acc: 0.9987 - val_loss: 0.4729 - val_acc: 0.8590\n",
      "Epoch 93/100\n",
      "1575/1575 [==============================] - 1s 600us/step - loss: 0.0011 - acc: 0.9987 - val_loss: 0.4722 - val_acc: 0.8629\n",
      "Epoch 94/100\n",
      "1575/1575 [==============================] - 1s 602us/step - loss: 0.0011 - acc: 0.9994 - val_loss: 0.4741 - val_acc: 0.8629\n",
      "Epoch 95/100\n",
      "1575/1575 [==============================] - 2s 1ms/step - loss: 0.0011 - acc: 0.9994 - val_loss: 0.4770 - val_acc: 0.8648\n",
      "Epoch 96/100\n",
      "1575/1575 [==============================] - 1s 813us/step - loss: 0.0011 - acc: 0.9994 - val_loss: 0.4728 - val_acc: 0.8648\n",
      "Epoch 97/100\n",
      "1575/1575 [==============================] - 2s 1ms/step - loss: 9.9721e-04 - acc: 0.9994 - val_loss: 0.4710 - val_acc: 0.8648\n",
      "Epoch 98/100\n",
      "1575/1575 [==============================] - 1s 878us/step - loss: 0.0011 - acc: 0.9987 - val_loss: 0.4772 - val_acc: 0.8667\n",
      "Epoch 99/100\n",
      "1575/1575 [==============================] - 1s 798us/step - loss: 0.0011 - acc: 0.9994 - val_loss: 0.4795 - val_acc: 0.8648\n",
      "Epoch 100/100\n",
      "1575/1575 [==============================] - 1s 759us/step - loss: 0.0011 - acc: 0.9994 - val_loss: 0.4792 - val_acc: 0.8648\n"
     ]
    }
   ],
   "source": [
    "#Fitting the data:\n",
    "model_details = model.fit(X_train, y_train,\n",
    "                     epochs=100,\n",
    "                     verbose=True,\n",
    "                     validation_data=(X_test, y_test),\n",
    "                    batch_size=10)"
   ]
  },
  {
   "cell_type": "code",
   "execution_count": 83,
   "metadata": {},
   "outputs": [
    {
     "name": "stdout",
     "output_type": "stream",
     "text": [
      "1575/1575 [==============================] - 0s 98us/step\n"
     ]
    },
    {
     "data": {
      "text/plain": [
       "[0.0009236828835948097, 0.9993650793650793]"
      ]
     },
     "execution_count": 83,
     "metadata": {},
     "output_type": "execute_result"
    }
   ],
   "source": [
    "model.evaluate(X_train,y_train)"
   ]
  },
  {
   "cell_type": "code",
   "execution_count": 84,
   "metadata": {},
   "outputs": [
    {
     "name": "stdout",
     "output_type": "stream",
     "text": [
      "525/525 [==============================] - 0s 91us/step\n"
     ]
    },
    {
     "data": {
      "text/plain": [
       "[0.47920860758849554, 0.8647619047619047]"
      ]
     },
     "execution_count": 84,
     "metadata": {},
     "output_type": "execute_result"
    }
   ],
   "source": [
    "model.evaluate(X_test,y_test)"
   ]
  },
  {
   "cell_type": "code",
   "execution_count": null,
   "metadata": {},
   "outputs": [],
   "source": []
  },
  {
   "cell_type": "code",
   "execution_count": null,
   "metadata": {},
   "outputs": [],
   "source": []
  },
  {
   "cell_type": "code",
   "execution_count": 34,
   "metadata": {},
   "outputs": [],
   "source": []
  },
  {
   "cell_type": "code",
   "execution_count": null,
   "metadata": {},
   "outputs": [],
   "source": []
  },
  {
   "cell_type": "code",
   "execution_count": null,
   "metadata": {},
   "outputs": [],
   "source": []
  },
  {
   "cell_type": "code",
   "execution_count": null,
   "metadata": {},
   "outputs": [],
   "source": []
  },
  {
   "cell_type": "code",
   "execution_count": null,
   "metadata": {},
   "outputs": [],
   "source": []
  },
  {
   "cell_type": "code",
   "execution_count": null,
   "metadata": {},
   "outputs": [],
   "source": []
  },
  {
   "cell_type": "code",
   "execution_count": null,
   "metadata": {},
   "outputs": [],
   "source": []
  },
  {
   "cell_type": "code",
   "execution_count": null,
   "metadata": {},
   "outputs": [],
   "source": []
  },
  {
   "cell_type": "code",
   "execution_count": null,
   "metadata": {},
   "outputs": [],
   "source": []
  },
  {
   "cell_type": "code",
   "execution_count": null,
   "metadata": {},
   "outputs": [],
   "source": []
  },
  {
   "cell_type": "code",
   "execution_count": null,
   "metadata": {},
   "outputs": [],
   "source": []
  },
  {
   "cell_type": "code",
   "execution_count": null,
   "metadata": {},
   "outputs": [],
   "source": []
  },
  {
   "cell_type": "code",
   "execution_count": null,
   "metadata": {},
   "outputs": [],
   "source": []
  },
  {
   "cell_type": "code",
   "execution_count": 25,
   "metadata": {},
   "outputs": [],
   "source": []
  },
  {
   "cell_type": "code",
   "execution_count": 27,
   "metadata": {},
   "outputs": [
    {
     "name": "stderr",
     "output_type": "stream",
     "text": [
      "C:\\Users\\Mudit\\Anaconda3\\envs\\tensorflow_gpuenv\\lib\\site-packages\\ipykernel_launcher.py:5: DeprecationWarning: Call to deprecated `__getitem__` (Method will be removed in 4.0.0, use self.wv.__getitem__() instead).\n",
      "  \"\"\"\n"
     ]
    }
   ],
   "source": []
  },
  {
   "cell_type": "code",
   "execution_count": 33,
   "metadata": {},
   "outputs": [],
   "source": []
  },
  {
   "cell_type": "code",
   "execution_count": null,
   "metadata": {},
   "outputs": [],
   "source": []
  },
  {
   "cell_type": "code",
   "execution_count": null,
   "metadata": {},
   "outputs": [],
   "source": []
  }
 ],
 "metadata": {
  "kernelspec": {
   "display_name": "Python 3",
   "language": "python",
   "name": "python3"
  },
  "language_info": {
   "codemirror_mode": {
    "name": "ipython",
    "version": 3
   },
   "file_extension": ".py",
   "mimetype": "text/x-python",
   "name": "python",
   "nbconvert_exporter": "python",
   "pygments_lexer": "ipython3",
   "version": "3.6.7"
  }
 },
 "nbformat": 4,
 "nbformat_minor": 2
}

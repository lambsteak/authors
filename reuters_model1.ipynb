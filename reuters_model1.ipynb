{
 "cells": [
  {
   "cell_type": "code",
   "execution_count": 1,
   "metadata": {},
   "outputs": [
    {
     "name": "stderr",
     "output_type": "stream",
     "text": [
      "C:\\Users\\Mudit\\Anaconda3\\envs\\tensorflow_gpuenv\\lib\\site-packages\\smart_open\\ssh.py:34: UserWarning: paramiko missing, opening SSH/SCP/SFTP paths will be disabled.  `pip install paramiko` to suppress\n",
      "  warnings.warn('paramiko missing, opening SSH/SCP/SFTP paths will be disabled.  `pip install paramiko` to suppress')\n"
     ]
    }
   ],
   "source": [
    "import pandas as pd\n",
    "import numpy as np\n",
    "import nltk\n",
    "import matplotlib.pyplot as plt\n",
    "import sklearn\n",
    "import tensorflow as tf\n",
    "import gensim\n",
    "import re"
   ]
  },
  {
   "cell_type": "code",
   "execution_count": null,
   "metadata": {},
   "outputs": [],
   "source": [
    "\n"
   ]
  },
  {
   "cell_type": "code",
   "execution_count": 87,
   "metadata": {},
   "outputs": [],
   "source": [
    "df = pd.read_csv(r'Data/dataset.csv',names=['Author','Text'])"
   ]
  },
  {
   "cell_type": "code",
   "execution_count": 88,
   "metadata": {},
   "outputs": [],
   "source": [
    "df['Text'] = df['Text'].map(lambda x: re.sub('\\r|\\n|\\'','',x))\n",
    "df['Text'] = df['Text'].map(lambda x: re.sub(r'--\\d\\d\\d-\\d\\d\\d-\\d\\d\\d\\d','',x))"
   ]
  },
  {
   "cell_type": "code",
   "execution_count": 89,
   "metadata": {},
   "outputs": [],
   "source": [
    "from nltk.corpus import stopwords\n",
    "stop_words = set(stopwords.words('english'))\n",
    "stop_words_subset = set([x for x in stop_words if 3 <= len(x) <= 5])"
   ]
  },
  {
   "cell_type": "code",
   "execution_count": 90,
   "metadata": {},
   "outputs": [],
   "source": [
    "#text_copy = df['Text'].copy()"
   ]
  },
  {
   "cell_type": "code",
   "execution_count": 91,
   "metadata": {},
   "outputs": [],
   "source": [
    "def remove_stopwords(x): #x is the string input\n",
    "    word_set = x.split(' ')\n",
    "    for word in word_set:\n",
    "        if word in stop_words:\n",
    "            word_set.remove(word)\n",
    "    return ' '.join(word_set)\n",
    "            \n"
   ]
  },
  {
   "cell_type": "code",
   "execution_count": 92,
   "metadata": {},
   "outputs": [],
   "source": [
    "# Removing stopwords\n",
    "df['Text'] = df['Text'].map(lambda x: remove_stopwords(x))"
   ]
  },
  {
   "cell_type": "code",
   "execution_count": null,
   "metadata": {},
   "outputs": [],
   "source": []
  },
  {
   "cell_type": "code",
   "execution_count": 93,
   "metadata": {},
   "outputs": [],
   "source": [
    "#Stratified train-test split \n",
    "\n",
    "X = df['Text']\n",
    "y = df['Author']"
   ]
  },
  {
   "cell_type": "code",
   "execution_count": null,
   "metadata": {},
   "outputs": [],
   "source": []
  },
  {
   "cell_type": "code",
   "execution_count": 53,
   "metadata": {},
   "outputs": [],
   "source": [
    "from sklearn.model_selection import train_test_split\n",
    "X_train, X_test, y_train, y_test = train_test_split(X, y,\n",
    "                                                    stratify=y, \n",
    "                                                    test_size=0.25,\n",
    "                                                   random_state= 42)"
   ]
  },
  {
   "cell_type": "code",
   "execution_count": 10,
   "metadata": {},
   "outputs": [],
   "source": [
    "#1. Using sklearn's CountVectorizer(i.e. A Bag of words model) to get a feature vector for our article text"
   ]
  },
  {
   "cell_type": "code",
   "execution_count": 54,
   "metadata": {},
   "outputs": [],
   "source": [
    "#Building a simple bag-of-words model\n",
    "\n",
    "from sklearn.feature_extraction.text import CountVectorizer\n",
    "\n",
    "vectorizer = CountVectorizer(min_df=0.1, lowercase=False) #Only consider words with a minimum frequency of 0.1, dont convert words to lowercase"
   ]
  },
  {
   "cell_type": "code",
   "execution_count": null,
   "metadata": {},
   "outputs": [],
   "source": []
  },
  {
   "cell_type": "code",
   "execution_count": null,
   "metadata": {},
   "outputs": [],
   "source": []
  },
  {
   "cell_type": "code",
   "execution_count": 55,
   "metadata": {},
   "outputs": [
    {
     "data": {
      "text/plain": [
       "CountVectorizer(analyzer='word', binary=False, decode_error='strict',\n",
       "        dtype=<class 'numpy.int64'>, encoding='utf-8', input='content',\n",
       "        lowercase=False, max_df=1.0, max_features=None, min_df=0.1,\n",
       "        ngram_range=(1, 1), preprocessor=None, stop_words=None,\n",
       "        strip_accents=None, token_pattern='(?u)\\\\b\\\\w\\\\w+\\\\b',\n",
       "        tokenizer=None, vocabulary=None)"
      ]
     },
     "execution_count": 55,
     "metadata": {},
     "output_type": "execute_result"
    }
   ],
   "source": [
    "vectorizer.fit(df['Text'])"
   ]
  },
  {
   "cell_type": "code",
   "execution_count": 56,
   "metadata": {},
   "outputs": [
    {
     "data": {
      "text/plain": [
       "444"
      ]
     },
     "execution_count": 56,
     "metadata": {},
     "output_type": "execute_result"
    }
   ],
   "source": [
    "len(vectorizer.vocabulary_) #The vector has length of 444 i.e. the top 444 words in the corpus have been taken to make feature vectors out of"
   ]
  },
  {
   "cell_type": "code",
   "execution_count": 57,
   "metadata": {},
   "outputs": [],
   "source": [
    "X_train = vectorizer.transform(X_train.values)"
   ]
  },
  {
   "cell_type": "code",
   "execution_count": 58,
   "metadata": {},
   "outputs": [],
   "source": [
    "X_test = vectorizer.transform(X_test.values)"
   ]
  },
  {
   "cell_type": "code",
   "execution_count": 59,
   "metadata": {},
   "outputs": [
    {
     "data": {
      "text/plain": [
       "(1250, 444)"
      ]
     },
     "execution_count": 59,
     "metadata": {},
     "output_type": "execute_result"
    }
   ],
   "source": [
    "(X_test).toarray().shape"
   ]
  },
  {
   "cell_type": "code",
   "execution_count": 60,
   "metadata": {},
   "outputs": [],
   "source": [
    "#Building the neural network model. For starters, we try a simple shallow NN and observe the outcome\n",
    "\n",
    "from tensorflow.keras.models import Sequential\n",
    "from tensorflow.keras import layers\n",
    "from tensorflow.keras.utils import plot_model"
   ]
  },
  {
   "cell_type": "code",
   "execution_count": 61,
   "metadata": {},
   "outputs": [],
   "source": [
    "input_dimension = X_train.shape[1] #This specifies the number of neurons in the input layer, in this case 444\n",
    "\n",
    "#Using Keras' sequential API\n",
    "model = Sequential()\n",
    "model.add(layers.Dense(100, input_dim=input_dimension, activation='relu'))\n",
    "model.add(layers.Dense(50, activation='softmax'))"
   ]
  },
  {
   "cell_type": "code",
   "execution_count": 62,
   "metadata": {},
   "outputs": [],
   "source": [
    "model.compile(loss='categorical_crossentropy', \n",
    "               optimizer= 'adam', \n",
    "            metrics=['accuracy'])\n",
    "\n",
    "#Using Adam optimizer and the categorical cross-entropy loss function"
   ]
  },
  {
   "cell_type": "code",
   "execution_count": 63,
   "metadata": {},
   "outputs": [
    {
     "name": "stdout",
     "output_type": "stream",
     "text": [
      "_________________________________________________________________\n",
      "Layer (type)                 Output Shape              Param #   \n",
      "=================================================================\n",
      "dense_2 (Dense)              (None, 100)               44500     \n",
      "_________________________________________________________________\n",
      "dense_3 (Dense)              (None, 50)                5050      \n",
      "=================================================================\n",
      "Total params: 49,550\n",
      "Trainable params: 49,550\n",
      "Non-trainable params: 0\n",
      "_________________________________________________________________\n"
     ]
    }
   ],
   "source": [
    "model.summary()"
   ]
  },
  {
   "cell_type": "code",
   "execution_count": null,
   "metadata": {},
   "outputs": [],
   "source": []
  },
  {
   "cell_type": "code",
   "execution_count": 64,
   "metadata": {},
   "outputs": [
    {
     "data": {
      "text/plain": [
       "LabelBinarizer(neg_label=0, pos_label=1, sparse_output=False)"
      ]
     },
     "execution_count": 64,
     "metadata": {},
     "output_type": "execute_result"
    }
   ],
   "source": [
    "#The target column has string categorical values. Convert this to discrete numeric values using Keras' LabelEncoder\n",
    "from sklearn.preprocessing import LabelBinarizer\n",
    "encoder = LabelBinarizer()\n",
    "encoder.fit(df['Author'].unique())"
   ]
  },
  {
   "cell_type": "code",
   "execution_count": 65,
   "metadata": {},
   "outputs": [],
   "source": [
    "#encoder.transform(df['Author'])\n",
    "#author_copy = df['Author'].copy()"
   ]
  },
  {
   "cell_type": "code",
   "execution_count": 66,
   "metadata": {},
   "outputs": [],
   "source": [
    "y_train = encoder.transform(y_train)\n",
    "y_test = encoder.transform(y_test)"
   ]
  },
  {
   "cell_type": "code",
   "execution_count": 67,
   "metadata": {},
   "outputs": [
    {
     "name": "stdout",
     "output_type": "stream",
     "text": [
      "Train on 3750 samples, validate on 1250 samples\n",
      "Epoch 1/100\n",
      "3750/3750 [==============================] - 4s 980us/step - loss: 2.8268 - acc: 0.2933 - val_loss: 1.7528 - val_acc: 0.5088\n",
      "Epoch 2/100\n",
      "3750/3750 [==============================] - 3s 748us/step - loss: 1.1412 - acc: 0.6984 - val_loss: 1.2099 - val_acc: 0.6568\n",
      "Epoch 3/100\n",
      "3750/3750 [==============================] - 3s 749us/step - loss: 0.6108 - acc: 0.8475 - val_loss: 1.0404 - val_acc: 0.7000\n",
      "Epoch 4/100\n",
      "3750/3750 [==============================] - 3s 898us/step - loss: 0.3536 - acc: 0.9296 - val_loss: 0.9367 - val_acc: 0.7376\n",
      "Epoch 5/100\n",
      "3750/3750 [==============================] - 3s 781us/step - loss: 0.2092 - acc: 0.9685 - val_loss: 0.9070 - val_acc: 0.7456\n",
      "Epoch 6/100\n",
      "3750/3750 [==============================] - 3s 848us/step - loss: 0.1256 - acc: 0.9861 - val_loss: 0.9066 - val_acc: 0.7512\n",
      "Epoch 7/100\n",
      "3750/3750 [==============================] - 3s 753us/step - loss: 0.0784 - acc: 0.9939 - val_loss: 0.8891 - val_acc: 0.7512\n",
      "Epoch 8/100\n",
      "3750/3750 [==============================] - 3s 751us/step - loss: 0.0545 - acc: 0.9971 - val_loss: 0.9078 - val_acc: 0.7576\n",
      "Epoch 9/100\n",
      "3750/3750 [==============================] - 3s 723us/step - loss: 0.0369 - acc: 0.9984 - val_loss: 0.9257 - val_acc: 0.7528\n",
      "Epoch 10/100\n",
      "3750/3750 [==============================] - 3s 717us/step - loss: 0.0303 - acc: 0.9976 - val_loss: 0.9544 - val_acc: 0.7576\n",
      "Epoch 11/100\n",
      "3750/3750 [==============================] - 3s 720us/step - loss: 0.0206 - acc: 0.9989 - val_loss: 0.9561 - val_acc: 0.7624\n",
      "Epoch 12/100\n",
      "3750/3750 [==============================] - 3s 721us/step - loss: 0.0239 - acc: 0.9957 - val_loss: 1.0378 - val_acc: 0.7440\n",
      "Epoch 13/100\n",
      "3750/3750 [==============================] - 3s 734us/step - loss: 0.0277 - acc: 0.9955 - val_loss: 1.0046 - val_acc: 0.7640\n",
      "Epoch 14/100\n",
      "3750/3750 [==============================] - 3s 717us/step - loss: 0.0138 - acc: 0.9984 - val_loss: 1.0692 - val_acc: 0.7472\n",
      "Epoch 15/100\n",
      "3750/3750 [==============================] - 3s 725us/step - loss: 0.0123 - acc: 0.9976 - val_loss: 1.0446 - val_acc: 0.7472\n",
      "Epoch 16/100\n",
      "3750/3750 [==============================] - 3s 705us/step - loss: 0.0081 - acc: 0.9984 - val_loss: 1.0768 - val_acc: 0.7488\n",
      "Epoch 17/100\n",
      "3750/3750 [==============================] - 3s 707us/step - loss: 0.0093 - acc: 0.9992 - val_loss: 1.1866 - val_acc: 0.7400\n",
      "Epoch 18/100\n",
      "3750/3750 [==============================] - 3s 729us/step - loss: 0.0695 - acc: 0.9797 - val_loss: 1.3526 - val_acc: 0.7120\n",
      "Epoch 19/100\n",
      "3750/3750 [==============================] - 3s 707us/step - loss: 0.0309 - acc: 0.9941 - val_loss: 1.2397 - val_acc: 0.7320\n",
      "Epoch 20/100\n",
      "3750/3750 [==============================] - 3s 713us/step - loss: 0.0070 - acc: 0.9989 - val_loss: 1.1698 - val_acc: 0.7464\n",
      "Epoch 21/100\n",
      "3750/3750 [==============================] - 3s 712us/step - loss: 0.0157 - acc: 0.9965 - val_loss: 1.3985 - val_acc: 0.7160\n",
      "Epoch 22/100\n",
      "3750/3750 [==============================] - 3s 714us/step - loss: 0.0148 - acc: 0.9957 - val_loss: 1.2909 - val_acc: 0.7304\n",
      "Epoch 23/100\n",
      "3750/3750 [==============================] - 3s 709us/step - loss: 0.0079 - acc: 0.9984 - val_loss: 1.2376 - val_acc: 0.7440\n",
      "Epoch 24/100\n",
      "3750/3750 [==============================] - 3s 689us/step - loss: 0.0021 - acc: 1.0000 - val_loss: 1.2206 - val_acc: 0.7448\n",
      "Epoch 25/100\n",
      "3750/3750 [==============================] - 3s 776us/step - loss: 0.0014 - acc: 1.0000 - val_loss: 1.2264 - val_acc: 0.7504\n",
      "Epoch 26/100\n",
      "3750/3750 [==============================] - 3s 827us/step - loss: 0.0011 - acc: 1.0000 - val_loss: 1.2394 - val_acc: 0.7488\n",
      "Epoch 27/100\n",
      "3750/3750 [==============================] - 3s 838us/step - loss: 9.2924e-04 - acc: 1.0000 - val_loss: 1.2441 - val_acc: 0.7488\n",
      "Epoch 28/100\n",
      "3750/3750 [==============================] - 3s 850us/step - loss: 7.8414e-04 - acc: 1.0000 - val_loss: 1.2551 - val_acc: 0.7504\n",
      "Epoch 29/100\n",
      "3750/3750 [==============================] - 3s 713us/step - loss: 6.6753e-04 - acc: 1.0000 - val_loss: 1.2723 - val_acc: 0.7520\n",
      "Epoch 30/100\n",
      "3750/3750 [==============================] - 3s 702us/step - loss: 6.0621e-04 - acc: 1.0000 - val_loss: 1.2780 - val_acc: 0.7464\n",
      "Epoch 31/100\n",
      "3750/3750 [==============================] - 3s 692us/step - loss: 4.8695e-04 - acc: 1.0000 - val_loss: 1.2928 - val_acc: 0.7512\n",
      "Epoch 32/100\n",
      "3750/3750 [==============================] - 3s 697us/step - loss: 4.2696e-04 - acc: 1.0000 - val_loss: 1.3002 - val_acc: 0.7528\n",
      "Epoch 33/100\n",
      "3750/3750 [==============================] - 3s 708us/step - loss: 3.5280e-04 - acc: 1.0000 - val_loss: 1.3095 - val_acc: 0.7496\n",
      "Epoch 34/100\n",
      "3750/3750 [==============================] - 3s 749us/step - loss: 3.0059e-04 - acc: 1.0000 - val_loss: 1.3236 - val_acc: 0.7536\n",
      "Epoch 35/100\n",
      "3750/3750 [==============================] - 3s 700us/step - loss: 2.5657e-04 - acc: 1.0000 - val_loss: 1.3343 - val_acc: 0.7544\n",
      "Epoch 36/100\n",
      "3750/3750 [==============================] - 3s 701us/step - loss: 2.2002e-04 - acc: 1.0000 - val_loss: 1.3488 - val_acc: 0.7520\n",
      "Epoch 37/100\n",
      "3750/3750 [==============================] - 3s 678us/step - loss: 1.8993e-04 - acc: 1.0000 - val_loss: 1.3520 - val_acc: 0.7496\n",
      "Epoch 38/100\n",
      "3750/3750 [==============================] - 3s 708us/step - loss: 0.1066 - acc: 0.9728 - val_loss: 1.5990 - val_acc: 0.7000\n",
      "Epoch 39/100\n",
      "3750/3750 [==============================] - 3s 693us/step - loss: 0.0204 - acc: 0.9963 - val_loss: 1.4656 - val_acc: 0.7304\n",
      "Epoch 40/100\n",
      "3750/3750 [==============================] - 3s 707us/step - loss: 0.0050 - acc: 0.9989 - val_loss: 1.4328 - val_acc: 0.7376\n",
      "Epoch 41/100\n",
      "3750/3750 [==============================] - 3s 678us/step - loss: 0.0027 - acc: 0.9995 - val_loss: 1.4795 - val_acc: 0.7288\n",
      "Epoch 42/100\n",
      "3750/3750 [==============================] - 3s 699us/step - loss: 0.0041 - acc: 0.9995 - val_loss: 1.4368 - val_acc: 0.7360\n",
      "Epoch 43/100\n",
      "3750/3750 [==============================] - 3s 704us/step - loss: 5.8078e-04 - acc: 1.0000 - val_loss: 1.4359 - val_acc: 0.7392\n",
      "Epoch 44/100\n",
      "3750/3750 [==============================] - 3s 689us/step - loss: 4.4872e-04 - acc: 1.0000 - val_loss: 1.4401 - val_acc: 0.7408\n",
      "Epoch 45/100\n",
      "3750/3750 [==============================] - 3s 701us/step - loss: 3.8365e-04 - acc: 1.0000 - val_loss: 1.4466 - val_acc: 0.7400\n",
      "Epoch 46/100\n",
      "3750/3750 [==============================] - 3s 677us/step - loss: 3.3128e-04 - acc: 1.0000 - val_loss: 1.4519 - val_acc: 0.7432\n",
      "Epoch 47/100\n",
      "3750/3750 [==============================] - 3s 743us/step - loss: 2.8818e-04 - acc: 1.0000 - val_loss: 1.4581 - val_acc: 0.7440\n",
      "Epoch 48/100\n",
      "3750/3750 [==============================] - 3s 734us/step - loss: 2.5114e-04 - acc: 1.0000 - val_loss: 1.4653 - val_acc: 0.7456\n",
      "Epoch 49/100\n",
      "3750/3750 [==============================] - 3s 716us/step - loss: 2.1932e-04 - acc: 1.0000 - val_loss: 1.4736 - val_acc: 0.7440\n",
      "Epoch 50/100\n",
      "3750/3750 [==============================] - 3s 716us/step - loss: 1.9180e-04 - acc: 1.0000 - val_loss: 1.4794 - val_acc: 0.7456\n",
      "Epoch 51/100\n",
      "3750/3750 [==============================] - 3s 711us/step - loss: 1.6723e-04 - acc: 1.0000 - val_loss: 1.4868 - val_acc: 0.7448\n",
      "Epoch 52/100\n",
      "3750/3750 [==============================] - 3s 689us/step - loss: 1.4649e-04 - acc: 1.0000 - val_loss: 1.4958 - val_acc: 0.7456\n",
      "Epoch 53/100\n",
      "3750/3750 [==============================] - 3s 686us/step - loss: 1.2737e-04 - acc: 1.0000 - val_loss: 1.5020 - val_acc: 0.7440\n",
      "Epoch 54/100\n",
      "3750/3750 [==============================] - 3s 683us/step - loss: 1.1139e-04 - acc: 1.0000 - val_loss: 1.5093 - val_acc: 0.7448\n",
      "Epoch 55/100\n",
      "3750/3750 [==============================] - 3s 686us/step - loss: 9.7077e-05 - acc: 1.0000 - val_loss: 1.5189 - val_acc: 0.7456\n",
      "Epoch 56/100\n",
      "3750/3750 [==============================] - 3s 684us/step - loss: 8.4043e-05 - acc: 1.0000 - val_loss: 1.5283 - val_acc: 0.7464\n",
      "Epoch 57/100\n",
      "3750/3750 [==============================] - 3s 694us/step - loss: 7.3207e-05 - acc: 1.0000 - val_loss: 1.5345 - val_acc: 0.7448\n",
      "Epoch 58/100\n",
      "3750/3750 [==============================] - 3s 716us/step - loss: 6.3029e-05 - acc: 1.0000 - val_loss: 1.5487 - val_acc: 0.7464\n",
      "Epoch 59/100\n"
     ]
    },
    {
     "name": "stdout",
     "output_type": "stream",
     "text": [
      "3750/3750 [==============================] - 3s 748us/step - loss: 5.4626e-05 - acc: 1.0000 - val_loss: 1.5527 - val_acc: 0.7448\n",
      "Epoch 60/100\n",
      "3750/3750 [==============================] - 3s 721us/step - loss: 4.7058e-05 - acc: 1.0000 - val_loss: 1.5673 - val_acc: 0.7456\n",
      "Epoch 61/100\n",
      "3750/3750 [==============================] - 3s 728us/step - loss: 4.1081e-05 - acc: 1.0000 - val_loss: 1.5782 - val_acc: 0.7464\n",
      "Epoch 62/100\n",
      "3750/3750 [==============================] - 3s 739us/step - loss: 3.4763e-05 - acc: 1.0000 - val_loss: 1.5841 - val_acc: 0.7464\n",
      "Epoch 63/100\n",
      "3750/3750 [==============================] - 3s 727us/step - loss: 3.0045e-05 - acc: 1.0000 - val_loss: 1.5960 - val_acc: 0.7456\n",
      "Epoch 64/100\n",
      "3750/3750 [==============================] - 3s 740us/step - loss: 2.5529e-05 - acc: 1.0000 - val_loss: 1.6040 - val_acc: 0.7448\n",
      "Epoch 65/100\n",
      "3750/3750 [==============================] - 3s 742us/step - loss: 2.1714e-05 - acc: 1.0000 - val_loss: 1.6129 - val_acc: 0.7448\n",
      "Epoch 66/100\n",
      "3750/3750 [==============================] - 3s 709us/step - loss: 1.8521e-05 - acc: 1.0000 - val_loss: 1.6270 - val_acc: 0.7424\n",
      "Epoch 67/100\n",
      "3750/3750 [==============================] - 3s 720us/step - loss: 1.6127e-05 - acc: 1.0000 - val_loss: 1.6366 - val_acc: 0.7448\n",
      "Epoch 68/100\n",
      "3750/3750 [==============================] - 3s 722us/step - loss: 1.4361e-05 - acc: 1.0000 - val_loss: 1.6462 - val_acc: 0.7448\n",
      "Epoch 69/100\n",
      "3750/3750 [==============================] - 3s 714us/step - loss: 1.1487e-05 - acc: 1.0000 - val_loss: 1.6596 - val_acc: 0.7456\n",
      "Epoch 70/100\n",
      "3750/3750 [==============================] - 3s 715us/step - loss: 9.7204e-06 - acc: 1.0000 - val_loss: 1.6639 - val_acc: 0.7456\n",
      "Epoch 71/100\n",
      "3750/3750 [==============================] - 3s 725us/step - loss: 8.7578e-06 - acc: 1.0000 - val_loss: 1.6856 - val_acc: 0.7472\n",
      "Epoch 72/100\n",
      "3750/3750 [==============================] - 3s 716us/step - loss: 7.0151e-06 - acc: 1.0000 - val_loss: 1.6803 - val_acc: 0.7464\n",
      "Epoch 73/100\n",
      "3750/3750 [==============================] - 3s 714us/step - loss: 6.4288e-06 - acc: 1.0000 - val_loss: 1.7024 - val_acc: 0.7480\n",
      "Epoch 74/100\n",
      "3750/3750 [==============================] - 3s 713us/step - loss: 0.0939 - acc: 0.9763 - val_loss: 2.4329 - val_acc: 0.6704\n",
      "Epoch 75/100\n",
      "3750/3750 [==============================] - 3s 696us/step - loss: 0.0454 - acc: 0.9891 - val_loss: 2.0131 - val_acc: 0.7048\n",
      "Epoch 76/100\n",
      "3750/3750 [==============================] - 3s 708us/step - loss: 0.0105 - acc: 0.9989 - val_loss: 1.8500 - val_acc: 0.7240\n",
      "Epoch 77/100\n",
      "3750/3750 [==============================] - 3s 698us/step - loss: 0.0046 - acc: 0.9997 - val_loss: 1.8403 - val_acc: 0.7216\n",
      "Epoch 78/100\n",
      "3750/3750 [==============================] - 3s 707us/step - loss: 0.0045 - acc: 0.9997 - val_loss: 1.8388 - val_acc: 0.7216\n",
      "Epoch 79/100\n",
      "3750/3750 [==============================] - 3s 706us/step - loss: 0.0045 - acc: 0.9997 - val_loss: 1.8383 - val_acc: 0.7240\n",
      "Epoch 80/100\n",
      "3750/3750 [==============================] - 3s 728us/step - loss: 0.0045 - acc: 0.9997 - val_loss: 1.8389 - val_acc: 0.7240\n",
      "Epoch 81/100\n",
      "3750/3750 [==============================] - 3s 704us/step - loss: 0.0044 - acc: 0.9997 - val_loss: 1.8397 - val_acc: 0.7248\n",
      "Epoch 82/100\n",
      "3750/3750 [==============================] - 3s 712us/step - loss: 0.0044 - acc: 0.9997 - val_loss: 1.8408 - val_acc: 0.7248\n",
      "Epoch 83/100\n",
      "3750/3750 [==============================] - 3s 687us/step - loss: 0.0044 - acc: 0.9997 - val_loss: 1.8421 - val_acc: 0.7264\n",
      "Epoch 84/100\n",
      "3750/3750 [==============================] - 3s 710us/step - loss: 0.0044 - acc: 0.9997 - val_loss: 1.8443 - val_acc: 0.7256\n",
      "Epoch 85/100\n",
      "3750/3750 [==============================] - 3s 765us/step - loss: 0.0044 - acc: 0.9997 - val_loss: 1.8462 - val_acc: 0.7248\n",
      "Epoch 86/100\n",
      "3750/3750 [==============================] - 3s 748us/step - loss: 0.0044 - acc: 0.9997 - val_loss: 1.8487 - val_acc: 0.7272\n",
      "Epoch 87/100\n",
      "3750/3750 [==============================] - 3s 708us/step - loss: 0.0044 - acc: 0.9997 - val_loss: 1.8512 - val_acc: 0.7272\n",
      "Epoch 88/100\n",
      "3750/3750 [==============================] - 3s 707us/step - loss: 0.0044 - acc: 0.9997 - val_loss: 1.8538 - val_acc: 0.7304\n",
      "Epoch 89/100\n",
      "3750/3750 [==============================] - 3s 689us/step - loss: 0.0043 - acc: 0.9997 - val_loss: 1.8571 - val_acc: 0.7336\n",
      "Epoch 90/100\n",
      "3750/3750 [==============================] - 3s 684us/step - loss: 0.0043 - acc: 0.9997 - val_loss: 1.8591 - val_acc: 0.7328\n",
      "Epoch 91/100\n",
      "3750/3750 [==============================] - 3s 718us/step - loss: 0.0043 - acc: 0.9997 - val_loss: 1.8627 - val_acc: 0.7336\n",
      "Epoch 92/100\n",
      "3750/3750 [==============================] - 3s 700us/step - loss: 0.0043 - acc: 0.9997 - val_loss: 1.8648 - val_acc: 0.7336\n",
      "Epoch 93/100\n",
      "3750/3750 [==============================] - 3s 695us/step - loss: 0.0043 - acc: 0.9997 - val_loss: 1.8681 - val_acc: 0.7344\n",
      "Epoch 94/100\n",
      "3750/3750 [==============================] - 3s 697us/step - loss: 0.0043 - acc: 0.9997 - val_loss: 1.8711 - val_acc: 0.7344\n",
      "Epoch 95/100\n",
      "3750/3750 [==============================] - 3s 692us/step - loss: 0.0043 - acc: 0.9997 - val_loss: 1.8770 - val_acc: 0.7368\n",
      "Epoch 96/100\n",
      "3750/3750 [==============================] - 3s 670us/step - loss: 0.0043 - acc: 0.9997 - val_loss: 1.8814 - val_acc: 0.7376\n",
      "Epoch 97/100\n",
      "3750/3750 [==============================] - 3s 677us/step - loss: 0.0043 - acc: 0.9997 - val_loss: 1.8841 - val_acc: 0.7392\n",
      "Epoch 98/100\n",
      "3750/3750 [==============================] - 3s 672us/step - loss: 0.0043 - acc: 0.9997 - val_loss: 1.8876 - val_acc: 0.7352\n",
      "Epoch 99/100\n",
      "3750/3750 [==============================] - 3s 682us/step - loss: 0.0043 - acc: 0.9997 - val_loss: 1.8901 - val_acc: 0.7360\n",
      "Epoch 100/100\n",
      "3750/3750 [==============================] - 3s 683us/step - loss: 0.0043 - acc: 0.9997 - val_loss: 1.8993 - val_acc: 0.7384\n"
     ]
    }
   ],
   "source": [
    "history = model.fit(X_train, y_train,\n",
    "                     epochs=100,\n",
    "                     verbose=True,\n",
    "                     validation_data=(X_test, y_test),\n",
    "                    batch_size=10)"
   ]
  },
  {
   "cell_type": "code",
   "execution_count": 68,
   "metadata": {},
   "outputs": [
    {
     "data": {
      "text/plain": [
       "{'batch_size': 10,\n",
       " 'epochs': 100,\n",
       " 'steps': None,\n",
       " 'samples': 3750,\n",
       " 'verbose': True,\n",
       " 'do_validation': True,\n",
       " 'metrics': ['loss', 'acc', 'val_loss', 'val_acc'],\n",
       " 'validation_steps': None}"
      ]
     },
     "execution_count": 68,
     "metadata": {},
     "output_type": "execute_result"
    }
   ],
   "source": [
    "#dir(history)\n",
    "#history.model\n",
    "history.params"
   ]
  },
  {
   "cell_type": "code",
   "execution_count": 69,
   "metadata": {},
   "outputs": [
    {
     "name": "stdout",
     "output_type": "stream",
     "text": [
      "3750/3750 [==============================] - 1s 179us/step\n"
     ]
    }
   ],
   "source": [
    "loss, accuracy = model.evaluate(X_train, y_train, verbose=True)"
   ]
  },
  {
   "cell_type": "code",
   "execution_count": 70,
   "metadata": {},
   "outputs": [
    {
     "name": "stdout",
     "output_type": "stream",
     "text": [
      "On the training set: loss of 0.00430798373334037 and accuracy achieved: 0.9997333333333334\n"
     ]
    }
   ],
   "source": [
    "print(f'On the training set: loss of {loss} and accuracy achieved: {accuracy}')"
   ]
  },
  {
   "cell_type": "code",
   "execution_count": 71,
   "metadata": {},
   "outputs": [
    {
     "name": "stdout",
     "output_type": "stream",
     "text": [
      "Testing Accuracy:  0.7384\n"
     ]
    }
   ],
   "source": [
    "#A validation set accuracy of 100% suggests that our model has overfitted. \n",
    "#The accuracy on the testing set comes out to be:\n",
    "loss, accuracy = model.evaluate(X_test, y_test, verbose=False)\n",
    "print(\"Testing Accuracy:  {:.4f}\".format(accuracy))"
   ]
  },
  {
   "cell_type": "markdown",
   "metadata": {},
   "source": [
    "NEURAL NETWORK WITH A SINGLE HIDDEN LAYER AND SOFTMAX AT THE OUTPUT LAYER WITH THE COUNT VECTORIZER ACHIEVES 73.84% ACCURACY"
   ]
  },
  {
   "cell_type": "code",
   "execution_count": null,
   "metadata": {},
   "outputs": [],
   "source": []
  },
  {
   "cell_type": "code",
   "execution_count": 82,
   "metadata": {},
   "outputs": [
    {
     "data": {
      "text/plain": [
       "TfidfVectorizer(analyzer='word', binary=False, decode_error='strict',\n",
       "        dtype=<class 'numpy.float64'>, encoding='utf-8', input='content',\n",
       "        lowercase=True, max_df=1.0, max_features=1000, min_df=1,\n",
       "        ngram_range=(1, 2), norm='l2', preprocessor=None, smooth_idf=True,\n",
       "        stop_words=None, strip_accents=None, sublinear_tf=False,\n",
       "        token_pattern='(?u)\\\\b\\\\w\\\\w+\\\\b', tokenizer=None, use_idf=True,\n",
       "        vocabulary=None)"
      ]
     },
     "execution_count": 82,
     "metadata": {},
     "output_type": "execute_result"
    }
   ],
   "source": [
    "from sklearn.feature_extraction.text import TfidfVectorizer\n",
    "vectorizer = TfidfVectorizer(ngram_range = (1,2),max_features = 1000)\n",
    "vectorizer.fit(df['Text'])"
   ]
  },
  {
   "cell_type": "code",
   "execution_count": 94,
   "metadata": {},
   "outputs": [],
   "source": [
    "from sklearn.model_selection import train_test_split\n",
    "X_train, X_test, y_train, y_test = train_test_split(X, y,\n",
    "                                                    stratify=y, \n",
    "                                                    test_size=0.25,\n",
    "                                                   random_state= 42)"
   ]
  },
  {
   "cell_type": "code",
   "execution_count": 95,
   "metadata": {},
   "outputs": [],
   "source": [
    "X_train = vectorizer.transform(X_train.values)"
   ]
  },
  {
   "cell_type": "code",
   "execution_count": 96,
   "metadata": {},
   "outputs": [],
   "source": [
    "X_test = vectorizer.transform(X_test.values)"
   ]
  },
  {
   "cell_type": "code",
   "execution_count": 79,
   "metadata": {},
   "outputs": [],
   "source": []
  },
  {
   "cell_type": "code",
   "execution_count": 97,
   "metadata": {},
   "outputs": [
    {
     "data": {
      "text/plain": [
       "(3750, 1000)"
      ]
     },
     "execution_count": 97,
     "metadata": {},
     "output_type": "execute_result"
    }
   ],
   "source": [
    "X_train.shape"
   ]
  },
  {
   "cell_type": "code",
   "execution_count": 102,
   "metadata": {},
   "outputs": [],
   "source": [
    "model = Sequential()\n",
    "model.add(layers.Dense(100, input_dim=X_train.shape[1], activation='relu'))\n",
    "model.add(layers.Dense(50, activation='softmax'))"
   ]
  },
  {
   "cell_type": "code",
   "execution_count": 104,
   "metadata": {},
   "outputs": [
    {
     "name": "stdout",
     "output_type": "stream",
     "text": [
      "_________________________________________________________________\n",
      "Layer (type)                 Output Shape              Param #   \n",
      "=================================================================\n",
      "dense_6 (Dense)              (None, 100)               100100    \n",
      "_________________________________________________________________\n",
      "dense_7 (Dense)              (None, 50)                5050      \n",
      "=================================================================\n",
      "Total params: 105,150\n",
      "Trainable params: 105,150\n",
      "Non-trainable params: 0\n",
      "_________________________________________________________________\n"
     ]
    }
   ],
   "source": [
    "model.compile(loss='categorical_crossentropy', \n",
    "               optimizer= 'adam', \n",
    "            metrics=['accuracy'])\n",
    "\n",
    "#Using Adam optimizer and the categorical cross-entropy loss function\n",
    "model.summary()"
   ]
  },
  {
   "cell_type": "code",
   "execution_count": 100,
   "metadata": {},
   "outputs": [],
   "source": [
    "y_train = encoder.transform(y_train)\n",
    "y_test = encoder.transform(y_test)"
   ]
  },
  {
   "cell_type": "code",
   "execution_count": 105,
   "metadata": {},
   "outputs": [
    {
     "name": "stdout",
     "output_type": "stream",
     "text": [
      "Train on 3750 samples, validate on 1250 samples\n",
      "Epoch 1/100\n",
      "3750/3750 [==============================] - 4s 1ms/step - loss: 3.2855 - acc: 0.3576 - val_loss: 2.3244 - val_acc: 0.5968\n",
      "Epoch 2/100\n",
      "3750/3750 [==============================] - 3s 814us/step - loss: 1.6803 - acc: 0.6581 - val_loss: 1.3697 - val_acc: 0.6488\n",
      "Epoch 3/100\n",
      "3750/3750 [==============================] - 3s 820us/step - loss: 1.0517 - acc: 0.7677 - val_loss: 1.0623 - val_acc: 0.7048\n",
      "Epoch 4/100\n",
      "3750/3750 [==============================] - 3s 822us/step - loss: 0.7697 - acc: 0.8224 - val_loss: 0.8958 - val_acc: 0.7440\n",
      "Epoch 5/100\n",
      "3750/3750 [==============================] - 3s 821us/step - loss: 0.5938 - acc: 0.8664 - val_loss: 0.7951 - val_acc: 0.7744\n",
      "Epoch 6/100\n",
      "3750/3750 [==============================] - 3s 807us/step - loss: 0.4639 - acc: 0.8960 - val_loss: 0.7298 - val_acc: 0.7800\n",
      "Epoch 7/100\n",
      "3750/3750 [==============================] - 3s 791us/step - loss: 0.3679 - acc: 0.9219 - val_loss: 0.6751 - val_acc: 0.8000\n",
      "Epoch 8/100\n",
      "3750/3750 [==============================] - 3s 804us/step - loss: 0.2928 - acc: 0.9499 - val_loss: 0.6318 - val_acc: 0.8120\n",
      "Epoch 9/100\n",
      "3750/3750 [==============================] - 3s 807us/step - loss: 0.2342 - acc: 0.9624 - val_loss: 0.6017 - val_acc: 0.8272\n",
      "Epoch 10/100\n",
      "3750/3750 [==============================] - 3s 803us/step - loss: 0.1876 - acc: 0.9725 - val_loss: 0.5809 - val_acc: 0.8240\n",
      "Epoch 11/100\n",
      "3750/3750 [==============================] - 3s 795us/step - loss: 0.1490 - acc: 0.9843 - val_loss: 0.5594 - val_acc: 0.8384\n",
      "Epoch 12/100\n",
      "3750/3750 [==============================] - 3s 804us/step - loss: 0.1202 - acc: 0.9875 - val_loss: 0.5510 - val_acc: 0.8280\n",
      "Epoch 13/100\n",
      "3750/3750 [==============================] - 3s 811us/step - loss: 0.0981 - acc: 0.9917 - val_loss: 0.5391 - val_acc: 0.8336\n",
      "Epoch 14/100\n",
      "3750/3750 [==============================] - 3s 793us/step - loss: 0.0778 - acc: 0.9944 - val_loss: 0.5307 - val_acc: 0.8304\n",
      "Epoch 15/100\n",
      "3750/3750 [==============================] - 3s 795us/step - loss: 0.0624 - acc: 0.9960 - val_loss: 0.5291 - val_acc: 0.8400\n",
      "Epoch 16/100\n",
      "3750/3750 [==============================] - 3s 797us/step - loss: 0.0514 - acc: 0.9971 - val_loss: 0.5285 - val_acc: 0.8416\n",
      "Epoch 17/100\n",
      "3750/3750 [==============================] - 3s 800us/step - loss: 0.0415 - acc: 0.9960 - val_loss: 0.5276 - val_acc: 0.8360\n",
      "Epoch 18/100\n",
      "3750/3750 [==============================] - 3s 827us/step - loss: 0.0341 - acc: 0.9973 - val_loss: 0.5362 - val_acc: 0.8336\n",
      "Epoch 19/100\n",
      "3750/3750 [==============================] - 3s 809us/step - loss: 0.0276 - acc: 0.9984 - val_loss: 0.5288 - val_acc: 0.8488\n",
      "Epoch 20/100\n",
      "3750/3750 [==============================] - 3s 794us/step - loss: 0.0226 - acc: 0.9989 - val_loss: 0.5340 - val_acc: 0.8400\n",
      "Epoch 21/100\n",
      "3750/3750 [==============================] - 3s 756us/step - loss: 0.0181 - acc: 0.9992 - val_loss: 0.5398 - val_acc: 0.8360\n",
      "Epoch 22/100\n",
      "3750/3750 [==============================] - 3s 776us/step - loss: 0.0155 - acc: 0.9989 - val_loss: 0.5444 - val_acc: 0.8408\n",
      "Epoch 23/100\n",
      "3750/3750 [==============================] - 3s 782us/step - loss: 0.0124 - acc: 0.9992 - val_loss: 0.5457 - val_acc: 0.8408\n",
      "Epoch 24/100\n",
      "3750/3750 [==============================] - 3s 796us/step - loss: 0.0101 - acc: 0.9995 - val_loss: 0.5543 - val_acc: 0.8408\n",
      "Epoch 25/100\n",
      "3750/3750 [==============================] - 3s 773us/step - loss: 0.0094 - acc: 0.9992 - val_loss: 0.5626 - val_acc: 0.8456\n",
      "Epoch 26/100\n",
      "3750/3750 [==============================] - 3s 802us/step - loss: 0.0070 - acc: 0.9995 - val_loss: 0.5670 - val_acc: 0.8416\n",
      "Epoch 27/100\n",
      "3750/3750 [==============================] - 3s 760us/step - loss: 0.0058 - acc: 0.9997 - val_loss: 0.5723 - val_acc: 0.8408\n",
      "Epoch 28/100\n",
      "3750/3750 [==============================] - 3s 762us/step - loss: 0.0047 - acc: 1.0000 - val_loss: 0.5795 - val_acc: 0.8432\n",
      "Epoch 29/100\n",
      "3750/3750 [==============================] - 3s 770us/step - loss: 0.0042 - acc: 0.9997 - val_loss: 0.5887 - val_acc: 0.8392\n",
      "Epoch 30/100\n",
      "3750/3750 [==============================] - 3s 819us/step - loss: 0.0040 - acc: 0.9995 - val_loss: 0.6150 - val_acc: 0.8360\n",
      "Epoch 31/100\n",
      "3750/3750 [==============================] - 3s 848us/step - loss: 0.0045 - acc: 0.9992 - val_loss: 0.6205 - val_acc: 0.8392\n",
      "Epoch 32/100\n",
      "3750/3750 [==============================] - 3s 738us/step - loss: 0.0026 - acc: 0.9995 - val_loss: 0.6202 - val_acc: 0.8376\n",
      "Epoch 33/100\n",
      "3750/3750 [==============================] - 3s 761us/step - loss: 0.0022 - acc: 1.0000 - val_loss: 0.6200 - val_acc: 0.8416\n",
      "Epoch 34/100\n",
      "3750/3750 [==============================] - 3s 751us/step - loss: 0.0015 - acc: 1.0000 - val_loss: 0.6332 - val_acc: 0.8368\n",
      "Epoch 35/100\n",
      "3750/3750 [==============================] - 3s 755us/step - loss: 0.0013 - acc: 1.0000 - val_loss: 0.6373 - val_acc: 0.8368\n",
      "Epoch 36/100\n",
      "3750/3750 [==============================] - 3s 769us/step - loss: 0.0010 - acc: 1.0000 - val_loss: 0.6495 - val_acc: 0.8424\n",
      "Epoch 37/100\n",
      "3750/3750 [==============================] - 3s 767us/step - loss: 8.6589e-04 - acc: 1.0000 - val_loss: 0.6530 - val_acc: 0.8424\n",
      "Epoch 38/100\n",
      "3750/3750 [==============================] - 3s 769us/step - loss: 7.7805e-04 - acc: 1.0000 - val_loss: 0.6642 - val_acc: 0.8344\n",
      "Epoch 39/100\n",
      "3750/3750 [==============================] - 3s 766us/step - loss: 7.5890e-04 - acc: 1.0000 - val_loss: 0.6744 - val_acc: 0.8376\n",
      "Epoch 40/100\n",
      "3750/3750 [==============================] - 3s 776us/step - loss: 6.6540e-04 - acc: 1.0000 - val_loss: 0.6833 - val_acc: 0.8352\n",
      "Epoch 41/100\n",
      "3750/3750 [==============================] - 3s 754us/step - loss: 4.6661e-04 - acc: 1.0000 - val_loss: 0.6979 - val_acc: 0.8400\n",
      "Epoch 42/100\n",
      "3750/3750 [==============================] - 3s 776us/step - loss: 3.5885e-04 - acc: 1.0000 - val_loss: 0.7053 - val_acc: 0.8344\n",
      "Epoch 43/100\n",
      "3750/3750 [==============================] - 3s 774us/step - loss: 3.1418e-04 - acc: 1.0000 - val_loss: 0.7137 - val_acc: 0.8320\n",
      "Epoch 44/100\n",
      "3750/3750 [==============================] - 2s 645us/step - loss: 2.6340e-04 - acc: 1.0000 - val_loss: 0.7288 - val_acc: 0.8344\n",
      "Epoch 45/100\n",
      "3750/3750 [==============================] - 2s 647us/step - loss: 3.9727e-04 - acc: 1.0000 - val_loss: 0.7436 - val_acc: 0.8352\n",
      "Epoch 46/100\n",
      "3750/3750 [==============================] - 2s 631us/step - loss: 0.0014 - acc: 0.9995 - val_loss: 0.7571 - val_acc: 0.8336\n",
      "Epoch 47/100\n",
      "3750/3750 [==============================] - 2s 635us/step - loss: 4.2446e-04 - acc: 0.9997 - val_loss: 0.7600 - val_acc: 0.8360\n",
      "Epoch 48/100\n",
      "3750/3750 [==============================] - 2s 594us/step - loss: 1.3011e-04 - acc: 1.0000 - val_loss: 0.7640 - val_acc: 0.8344\n",
      "Epoch 49/100\n",
      "3750/3750 [==============================] - 2s 588us/step - loss: 1.1180e-04 - acc: 1.0000 - val_loss: 0.7701 - val_acc: 0.8360\n",
      "Epoch 50/100\n",
      "3750/3750 [==============================] - 2s 591us/step - loss: 1.0124e-04 - acc: 1.0000 - val_loss: 0.7793 - val_acc: 0.8360\n",
      "Epoch 51/100\n",
      "3750/3750 [==============================] - 2s 594us/step - loss: 9.8405e-05 - acc: 1.0000 - val_loss: 0.7918 - val_acc: 0.8352\n",
      "Epoch 52/100\n",
      "3750/3750 [==============================] - 2s 590us/step - loss: 2.6749e-04 - acc: 1.0000 - val_loss: 0.8088 - val_acc: 0.8352\n",
      "Epoch 53/100\n",
      "3750/3750 [==============================] - 2s 590us/step - loss: 8.5579e-04 - acc: 0.9995 - val_loss: 0.8158 - val_acc: 0.8352\n",
      "Epoch 54/100\n",
      "3750/3750 [==============================] - 2s 589us/step - loss: 5.7493e-05 - acc: 1.0000 - val_loss: 0.8176 - val_acc: 0.8352\n",
      "Epoch 55/100\n",
      "3750/3750 [==============================] - 2s 593us/step - loss: 4.7633e-05 - acc: 1.0000 - val_loss: 0.8233 - val_acc: 0.8344\n",
      "Epoch 56/100\n",
      "3750/3750 [==============================] - 2s 588us/step - loss: 4.0410e-05 - acc: 1.0000 - val_loss: 0.8354 - val_acc: 0.8360\n",
      "Epoch 57/100\n",
      "3750/3750 [==============================] - 2s 586us/step - loss: 3.4783e-05 - acc: 1.0000 - val_loss: 0.8426 - val_acc: 0.8320\n",
      "Epoch 58/100\n",
      "3750/3750 [==============================] - 2s 590us/step - loss: 2.9840e-05 - acc: 1.0000 - val_loss: 0.8520 - val_acc: 0.8328\n",
      "Epoch 59/100\n"
     ]
    },
    {
     "name": "stdout",
     "output_type": "stream",
     "text": [
      "3750/3750 [==============================] - 2s 584us/step - loss: 2.6065e-05 - acc: 1.0000 - val_loss: 0.8595 - val_acc: 0.8328\n",
      "Epoch 60/100\n",
      "3750/3750 [==============================] - 2s 582us/step - loss: 2.2780e-05 - acc: 1.0000 - val_loss: 0.8704 - val_acc: 0.8352\n",
      "Epoch 61/100\n",
      "3750/3750 [==============================] - 2s 579us/step - loss: 2.0552e-05 - acc: 1.0000 - val_loss: 0.8800 - val_acc: 0.8328\n",
      "Epoch 62/100\n",
      "3750/3750 [==============================] - 2s 591us/step - loss: 1.7390e-05 - acc: 1.0000 - val_loss: 0.8854 - val_acc: 0.8360\n",
      "Epoch 63/100\n",
      "3750/3750 [==============================] - 2s 581us/step - loss: 1.6021e-05 - acc: 1.0000 - val_loss: 0.9039 - val_acc: 0.8328\n",
      "Epoch 64/100\n",
      "3750/3750 [==============================] - 2s 582us/step - loss: 1.4083e-05 - acc: 1.0000 - val_loss: 0.9041 - val_acc: 0.8376\n",
      "Epoch 65/100\n",
      "3750/3750 [==============================] - 2s 580us/step - loss: 1.2330e-05 - acc: 1.0000 - val_loss: 0.9147 - val_acc: 0.8360\n",
      "Epoch 66/100\n",
      "3750/3750 [==============================] - 2s 583us/step - loss: 1.0334e-05 - acc: 1.0000 - val_loss: 0.9243 - val_acc: 0.8312\n",
      "Epoch 67/100\n",
      "3750/3750 [==============================] - 2s 583us/step - loss: 9.9584e-06 - acc: 1.0000 - val_loss: 0.9361 - val_acc: 0.8320\n",
      "Epoch 68/100\n",
      "3750/3750 [==============================] - 2s 584us/step - loss: 1.1625e-05 - acc: 1.0000 - val_loss: 0.9379 - val_acc: 0.8320\n",
      "Epoch 69/100\n",
      "3750/3750 [==============================] - 2s 589us/step - loss: 1.6789e-04 - acc: 1.0000 - val_loss: 0.9699 - val_acc: 0.8288\n",
      "Epoch 70/100\n",
      "3750/3750 [==============================] - 2s 584us/step - loss: 2.5534e-05 - acc: 1.0000 - val_loss: 0.9709 - val_acc: 0.8320\n",
      "Epoch 71/100\n",
      "3750/3750 [==============================] - 3s 905us/step - loss: 5.4795e-06 - acc: 1.0000 - val_loss: 0.9666 - val_acc: 0.8352\n",
      "Epoch 72/100\n",
      "3750/3750 [==============================] - 2s 587us/step - loss: 4.8405e-06 - acc: 1.0000 - val_loss: 0.9791 - val_acc: 0.8328\n",
      "Epoch 73/100\n",
      "3750/3750 [==============================] - 3s 745us/step - loss: 4.3458e-06 - acc: 1.0000 - val_loss: 0.9810 - val_acc: 0.8328\n",
      "Epoch 74/100\n",
      "3750/3750 [==============================] - 3s 856us/step - loss: 3.9305e-06 - acc: 1.0000 - val_loss: 0.9898 - val_acc: 0.8320\n",
      "Epoch 75/100\n",
      "3750/3750 [==============================] - 2s 650us/step - loss: 3.7964e-06 - acc: 1.0000 - val_loss: 0.9886 - val_acc: 0.8336\n",
      "Epoch 76/100\n",
      "3750/3750 [==============================] - 3s 708us/step - loss: 3.5210e-06 - acc: 1.0000 - val_loss: 0.9990 - val_acc: 0.8328\n",
      "Epoch 77/100\n",
      "3750/3750 [==============================] - 2s 658us/step - loss: 3.1266e-06 - acc: 1.0000 - val_loss: 1.0106 - val_acc: 0.8272\n",
      "Epoch 78/100\n",
      "3750/3750 [==============================] - 2s 666us/step - loss: 3.4438e-06 - acc: 1.0000 - val_loss: 1.0064 - val_acc: 0.8296\n",
      "Epoch 79/100\n",
      "3750/3750 [==============================] - 3s 709us/step - loss: 3.0243e-05 - acc: 1.0000 - val_loss: 1.0081 - val_acc: 0.8304\n",
      "Epoch 80/100\n",
      "3750/3750 [==============================] - 2s 655us/step - loss: 7.9380e-05 - acc: 1.0000 - val_loss: 1.0379 - val_acc: 0.8304\n",
      "Epoch 81/100\n",
      "3750/3750 [==============================] - 2s 622us/step - loss: 1.8146e-06 - acc: 1.0000 - val_loss: 1.0307 - val_acc: 0.8288\n",
      "Epoch 82/100\n",
      "3750/3750 [==============================] - 3s 701us/step - loss: 1.5471e-06 - acc: 1.0000 - val_loss: 1.0328 - val_acc: 0.8288\n",
      "Epoch 83/100\n",
      "3750/3750 [==============================] - 3s 694us/step - loss: 1.4230e-06 - acc: 1.0000 - val_loss: 1.0370 - val_acc: 0.8288\n",
      "Epoch 84/100\n",
      "3750/3750 [==============================] - 2s 625us/step - loss: 1.2928e-06 - acc: 1.0000 - val_loss: 1.0444 - val_acc: 0.8272\n",
      "Epoch 85/100\n",
      "3750/3750 [==============================] - 2s 619us/step - loss: 1.1897e-06 - acc: 1.0000 - val_loss: 1.0447 - val_acc: 0.8272\n",
      "Epoch 86/100\n",
      "3750/3750 [==============================] - 3s 678us/step - loss: 1.0816e-06 - acc: 1.0000 - val_loss: 1.0498 - val_acc: 0.8280\n",
      "Epoch 87/100\n",
      "3750/3750 [==============================] - 3s 710us/step - loss: 1.0124e-06 - acc: 1.0000 - val_loss: 1.0584 - val_acc: 0.8272\n",
      "Epoch 88/100\n",
      "3750/3750 [==============================] - 3s 748us/step - loss: 9.5091e-07 - acc: 1.0000 - val_loss: 1.0610 - val_acc: 0.8288\n",
      "Epoch 89/100\n",
      "3750/3750 [==============================] - 3s 764us/step - loss: 8.8902e-07 - acc: 1.0000 - val_loss: 1.0657 - val_acc: 0.8320\n",
      "Epoch 90/100\n",
      "3750/3750 [==============================] - 2s 630us/step - loss: 8.3574e-07 - acc: 1.0000 - val_loss: 1.0683 - val_acc: 0.8296\n",
      "Epoch 91/100\n",
      "3750/3750 [==============================] - 2s 627us/step - loss: 7.9020e-07 - acc: 1.0000 - val_loss: 1.0698 - val_acc: 0.8296\n",
      "Epoch 92/100\n",
      "3750/3750 [==============================] - 2s 623us/step - loss: 7.1771e-07 - acc: 1.0000 - val_loss: 1.0740 - val_acc: 0.8280\n",
      "Epoch 93/100\n",
      "3750/3750 [==============================] - 2s 658us/step - loss: 6.5717e-07 - acc: 1.0000 - val_loss: 1.0864 - val_acc: 0.8272\n",
      "Epoch 94/100\n",
      "3750/3750 [==============================] - 3s 691us/step - loss: 6.1223e-07 - acc: 1.0000 - val_loss: 1.0848 - val_acc: 0.8296\n",
      "Epoch 95/100\n",
      "3750/3750 [==============================] - 3s 768us/step - loss: 6.1251e-07 - acc: 1.0000 - val_loss: 1.0885 - val_acc: 0.8296\n",
      "Epoch 96/100\n",
      "3750/3750 [==============================] - 3s 715us/step - loss: 5.5197e-07 - acc: 1.0000 - val_loss: 1.0927 - val_acc: 0.8344\n",
      "Epoch 97/100\n",
      "3750/3750 [==============================] - 3s 747us/step - loss: 5.3550e-07 - acc: 1.0000 - val_loss: 1.0962 - val_acc: 0.8256\n",
      "Epoch 98/100\n",
      "3750/3750 [==============================] - 3s 768us/step - loss: 6.2796e-07 - acc: 1.0000 - val_loss: 1.1067 - val_acc: 0.8264\n",
      "Epoch 99/100\n",
      "3750/3750 [==============================] - 3s 676us/step - loss: 5.6098e-07 - acc: 1.0000 - val_loss: 1.1061 - val_acc: 0.8344\n",
      "Epoch 100/100\n",
      "3750/3750 [==============================] - 2s 638us/step - loss: 4.9881e-07 - acc: 1.0000 - val_loss: 1.1047 - val_acc: 0.8288\n"
     ]
    }
   ],
   "source": [
    "history = model.fit(X_train, y_train,\n",
    "                     epochs=100,\n",
    "                     verbose=True,\n",
    "                     validation_data=(X_test, y_test),\n",
    "                    batch_size=10)"
   ]
  },
  {
   "cell_type": "code",
   "execution_count": 106,
   "metadata": {},
   "outputs": [
    {
     "name": "stdout",
     "output_type": "stream",
     "text": [
      "Testing Accuracy:  0.8288\n"
     ]
    }
   ],
   "source": [
    "loss, accuracy = model.evaluate(X_test, y_test, verbose=False)\n",
    "print(\"Testing Accuracy:  {:.4f}\".format(accuracy))"
   ]
  },
  {
   "cell_type": "code",
   "execution_count": null,
   "metadata": {},
   "outputs": [],
   "source": [
    "NEURAL NETWORK WITH A SINGLE HIDDEN LAYER AND SOFTMAX AT THE OUTPUT LAYER WITH THE TF-IDF VECTORIZER ACHIEVES 73.84% ACCURACY"
   ]
  },
  {
   "cell_type": "code",
   "execution_count": 108,
   "metadata": {},
   "outputs": [],
   "source": [
    "# serialize model to JSON\n",
    "model_json = model.to_json()\n",
    "with open(\"model.json\", \"w\") as json_file:\n",
    "    json_file.write(model_json)"
   ]
  },
  {
   "cell_type": "code",
   "execution_count": 109,
   "metadata": {},
   "outputs": [
    {
     "name": "stdout",
     "output_type": "stream",
     "text": [
      "Saved model to disk\n"
     ]
    }
   ],
   "source": [
    "\n",
    "# serialize weights to HDF5\n",
    "model.save_weights(\"model.h5\")\n",
    "print(\"Saved model to disk\")"
   ]
  },
  {
   "cell_type": "code",
   "execution_count": null,
   "metadata": {},
   "outputs": [],
   "source": []
  },
  {
   "cell_type": "code",
   "execution_count": 26,
   "metadata": {},
   "outputs": [],
   "source": [
    "#Trying a model with two hidden layers:"
   ]
  },
  {
   "cell_type": "code",
   "execution_count": 25,
   "metadata": {},
   "outputs": [],
   "source": [
    "model_two = Sequential()\n",
    "model_two.add(layers.Dense(100,input_dim = input_dimension, activation = 'relu'))\n",
    "model_two.add(layers.Dense(75,activation = 'relu'))\n",
    "model_two.add(layers.Dense(50, activation='softmax'))"
   ]
  },
  {
   "cell_type": "code",
   "execution_count": 27,
   "metadata": {},
   "outputs": [],
   "source": [
    "model_two.compile(loss='categorical_crossentropy', \n",
    "               optimizer='adam', \n",
    "            metrics=['accuracy'])\n"
   ]
  },
  {
   "cell_type": "code",
   "execution_count": 28,
   "metadata": {},
   "outputs": [],
   "source": [
    "history = model_two.fit(X_train, y_train,\n",
    "                     epochs=100,\n",
    "                     verbose=False,\n",
    "                     validation_data=(X_test, y_test),\n",
    "                    batch_size=10)"
   ]
  },
  {
   "cell_type": "code",
   "execution_count": 29,
   "metadata": {},
   "outputs": [
    {
     "name": "stdout",
     "output_type": "stream",
     "text": [
      "_________________________________________________________________\n",
      "Layer (type)                 Output Shape              Param #   \n",
      "=================================================================\n",
      "dense_2 (Dense)              (None, 100)               44500     \n",
      "_________________________________________________________________\n",
      "dense_3 (Dense)              (None, 75)                7575      \n",
      "_________________________________________________________________\n",
      "dense_4 (Dense)              (None, 50)                3800      \n",
      "=================================================================\n",
      "Total params: 55,875\n",
      "Trainable params: 55,875\n",
      "Non-trainable params: 0\n",
      "_________________________________________________________________\n"
     ]
    }
   ],
   "source": [
    "model_two.summary()"
   ]
  },
  {
   "cell_type": "code",
   "execution_count": 30,
   "metadata": {},
   "outputs": [
    {
     "name": "stdout",
     "output_type": "stream",
     "text": [
      "3750/3750 [==============================] - 1s 176us/step\n"
     ]
    },
    {
     "data": {
      "text/plain": [
       "[0.0007415856130576382, 0.9997333333333334]"
      ]
     },
     "execution_count": 30,
     "metadata": {},
     "output_type": "execute_result"
    }
   ],
   "source": [
    "model_two.evaluate(X_train,y_train)"
   ]
  },
  {
   "cell_type": "code",
   "execution_count": 31,
   "metadata": {},
   "outputs": [
    {
     "name": "stdout",
     "output_type": "stream",
     "text": [
      "1250/1250 [==============================] - 0s 100us/step\n"
     ]
    },
    {
     "data": {
      "text/plain": [
       "[2.1614733142852782, 0.7016]"
      ]
     },
     "execution_count": 31,
     "metadata": {},
     "output_type": "execute_result"
    }
   ],
   "source": [
    "model_two.evaluate(X_test,y_test)"
   ]
  },
  {
   "cell_type": "code",
   "execution_count": null,
   "metadata": {},
   "outputs": [],
   "source": [
    "#As the validation accuracy is quite a bit greater than the training accuracy, this suggests that we the model has overfitted."
   ]
  },
  {
   "cell_type": "code",
   "execution_count": 32,
   "metadata": {},
   "outputs": [],
   "source": [
    "#We will now try a simpler model, with the aim of brining down the validation loss to somewhere closer to the training data loss"
   ]
  },
  {
   "cell_type": "code",
   "execution_count": 34,
   "metadata": {},
   "outputs": [],
   "source": [
    "model_three = Sequential()\n",
    "model_three.add(layers.Dense(100,input_dim = input_dimension, activation = 'relu'))\n",
    "model_three.add(layers.Dense(75,activation = 'relu'))\n",
    "model_three.add(layers.Dense(50, activation='softmax'))"
   ]
  },
  {
   "cell_type": "code",
   "execution_count": 36,
   "metadata": {},
   "outputs": [],
   "source": [
    "model_three.compile(loss='categorical_crossentropy', \n",
    "               optimizer='sgd', \n",
    "            metrics=['accuracy'])"
   ]
  },
  {
   "cell_type": "code",
   "execution_count": 37,
   "metadata": {},
   "outputs": [],
   "source": [
    "#The model also tests the accuracy on the validation data set per epoch\n",
    "\n",
    "history = model_three.fit(X_train, y_train,\n",
    "                     epochs=200,\n",
    "                     verbose=False,\n",
    "                     validation_data=(X_test, y_test),\n",
    "                    batch_size=10)"
   ]
  },
  {
   "cell_type": "code",
   "execution_count": 38,
   "metadata": {},
   "outputs": [
    {
     "name": "stdout",
     "output_type": "stream",
     "text": [
      "3750/3750 [==============================] - 1s 186us/step\n"
     ]
    },
    {
     "data": {
      "text/plain": [
       "[0.0015797486290956538, 1.0]"
      ]
     },
     "execution_count": 38,
     "metadata": {},
     "output_type": "execute_result"
    }
   ],
   "source": [
    "model_three.evaluate(X_train,y_train)"
   ]
  },
  {
   "cell_type": "code",
   "execution_count": 39,
   "metadata": {},
   "outputs": [
    {
     "name": "stdout",
     "output_type": "stream",
     "text": [
      "1250/1250 [==============================] - 0s 368us/step\n"
     ]
    },
    {
     "data": {
      "text/plain": [
       "[1.7865182443752885, 0.704]"
      ]
     },
     "execution_count": 39,
     "metadata": {},
     "output_type": "execute_result"
    }
   ],
   "source": [
    "model_three.evaluate(X_test,y_test)"
   ]
  },
  {
   "cell_type": "code",
   "execution_count": null,
   "metadata": {},
   "outputs": [],
   "source": []
  },
  {
   "cell_type": "code",
   "execution_count": 49,
   "metadata": {},
   "outputs": [
    {
     "data": {
      "text/plain": [
       "(3750, 444)"
      ]
     },
     "execution_count": 49,
     "metadata": {},
     "output_type": "execute_result"
    }
   ],
   "source": [
    "X_train.toarray().shape"
   ]
  },
  {
   "cell_type": "code",
   "execution_count": null,
   "metadata": {},
   "outputs": [],
   "source": []
  },
  {
   "cell_type": "code",
   "execution_count": 11,
   "metadata": {},
   "outputs": [],
   "source": [
    "\n"
   ]
  },
  {
   "cell_type": "code",
   "execution_count": null,
   "metadata": {},
   "outputs": [],
   "source": []
  },
  {
   "cell_type": "code",
   "execution_count": null,
   "metadata": {},
   "outputs": [],
   "source": []
  },
  {
   "cell_type": "code",
   "execution_count": null,
   "metadata": {},
   "outputs": [],
   "source": []
  },
  {
   "cell_type": "code",
   "execution_count": 131,
   "metadata": {},
   "outputs": [],
   "source": []
  },
  {
   "cell_type": "code",
   "execution_count": 69,
   "metadata": {},
   "outputs": [],
   "source": []
  },
  {
   "cell_type": "code",
   "execution_count": null,
   "metadata": {},
   "outputs": [],
   "source": []
  },
  {
   "cell_type": "code",
   "execution_count": null,
   "metadata": {},
   "outputs": [],
   "source": []
  },
  {
   "cell_type": "code",
   "execution_count": null,
   "metadata": {},
   "outputs": [],
   "source": []
  },
  {
   "cell_type": "code",
   "execution_count": null,
   "metadata": {},
   "outputs": [],
   "source": []
  },
  {
   "cell_type": "code",
   "execution_count": null,
   "metadata": {},
   "outputs": [],
   "source": []
  },
  {
   "cell_type": "code",
   "execution_count": null,
   "metadata": {},
   "outputs": [],
   "source": []
  },
  {
   "cell_type": "code",
   "execution_count": null,
   "metadata": {},
   "outputs": [],
   "source": []
  },
  {
   "cell_type": "code",
   "execution_count": null,
   "metadata": {},
   "outputs": [],
   "source": []
  },
  {
   "cell_type": "code",
   "execution_count": null,
   "metadata": {},
   "outputs": [],
   "source": []
  },
  {
   "cell_type": "code",
   "execution_count": null,
   "metadata": {},
   "outputs": [],
   "source": []
  },
  {
   "cell_type": "code",
   "execution_count": null,
   "metadata": {},
   "outputs": [],
   "source": []
  },
  {
   "cell_type": "code",
   "execution_count": null,
   "metadata": {},
   "outputs": [],
   "source": []
  },
  {
   "cell_type": "code",
   "execution_count": null,
   "metadata": {},
   "outputs": [],
   "source": []
  },
  {
   "cell_type": "code",
   "execution_count": null,
   "metadata": {},
   "outputs": [],
   "source": []
  },
  {
   "cell_type": "code",
   "execution_count": null,
   "metadata": {
    "scrolled": true
   },
   "outputs": [],
   "source": []
  },
  {
   "cell_type": "code",
   "execution_count": null,
   "metadata": {},
   "outputs": [],
   "source": []
  },
  {
   "cell_type": "code",
   "execution_count": null,
   "metadata": {},
   "outputs": [],
   "source": []
  },
  {
   "cell_type": "code",
   "execution_count": null,
   "metadata": {},
   "outputs": [],
   "source": []
  },
  {
   "cell_type": "code",
   "execution_count": null,
   "metadata": {},
   "outputs": [],
   "source": []
  },
  {
   "cell_type": "code",
   "execution_count": null,
   "metadata": {},
   "outputs": [],
   "source": []
  },
  {
   "cell_type": "code",
   "execution_count": null,
   "metadata": {},
   "outputs": [],
   "source": []
  },
  {
   "cell_type": "code",
   "execution_count": null,
   "metadata": {},
   "outputs": [],
   "source": []
  }
 ],
 "metadata": {
  "kernelspec": {
   "display_name": "Python 3",
   "language": "python",
   "name": "python3"
  },
  "language_info": {
   "codemirror_mode": {
    "name": "ipython",
    "version": 3
   },
   "file_extension": ".py",
   "mimetype": "text/x-python",
   "name": "python",
   "nbconvert_exporter": "python",
   "pygments_lexer": "ipython3",
   "version": "3.6.7"
  }
 },
 "nbformat": 4,
 "nbformat_minor": 2
}

{
 "cells": [
  {
   "cell_type": "code",
   "execution_count": 64,
   "metadata": {},
   "outputs": [],
   "source": [
    "import csv,os,re\n",
    "import pandas as pd\n",
    "import numpy as np\n",
    "import matplotlib.pyplot as plt\n",
    "import sqlite3"
   ]
  },
  {
   "cell_type": "code",
   "execution_count": 65,
   "metadata": {
    "scrolled": true
   },
   "outputs": [],
   "source": [
    "connectionState = sqlite3.connect('Data/gutenberg/gutenberg.sqlite3')\n",
    "#cursor=connectionState.cursor()\n",
    "data_df = pd.read_sql_query(\"SELECT * FROM articles\", connectionState)\n",
    "# dropping the id column\n",
    "data_df = data_df.drop('id',axis=1)\n",
    "# rename columns to author and text\n",
    "data_df.columns = ['Author','Text']"
   ]
  },
  {
   "cell_type": "code",
   "execution_count": 66,
   "metadata": {},
   "outputs": [],
   "source": [
    "data_df['Text'] = data_df['Text'].map(lambda x: re.sub('\\r|\\n|\\'','',x))\n",
    "data_df['Text'] = data_df['Text'].map(lambda x: re.sub(r'--\\d\\d\\d-\\d\\d\\d-\\d\\d\\d\\d','',x))\n",
    "data_df['Text'] = data_df['Text'].map(lambda x: re.sub('\\s+',' ',x))"
   ]
  },
  {
   "cell_type": "code",
   "execution_count": 67,
   "metadata": {},
   "outputs": [],
   "source": [
    "#Generate corpus of words for use by the CountVectorizer\n",
    "corpus = []\n",
    "for text in data_df['Text']:\n",
    "    corpus.append(text)\n",
    "#corpus[11]"
   ]
  },
  {
   "cell_type": "code",
   "execution_count": 68,
   "metadata": {},
   "outputs": [],
   "source": [
    "# remove stop words\n",
    "from nltk.corpus import stopwords\n",
    "stop_words = set(stopwords.words('english'))\n",
    "stop_words_subset = set([x for x in stop_words if 3 <= len(x) <=5])\n",
    "\n",
    "def remove_stopwords(x): #x is the string\n",
    "    word_set = x.split(' ')\n",
    "    for word in word_set:\n",
    "        if word in stop_words:\n",
    "            word_set.remove(word)\n",
    "    return ' '.join(word_set)\n"
   ]
  },
  {
   "cell_type": "code",
   "execution_count": 69,
   "metadata": {
    "scrolled": true
   },
   "outputs": [
    {
     "data": {
      "text/plain": [
       "0        With mind thus full happiness, Catherine hard...\n",
       "1       Mrs. John Dashwood much confidence husbands ju...\n",
       "2        Everything now regular train: theatre, actors...\n",
       "3        Mrs. Westons friends made happy safety; satis...\n",
       "4       From night sleep expected, Marianne awoke then...\n",
       "5       Mrs. Dashwood remained Norland several months;...\n",
       "6       Elizabeth related Jane next day, passed Mr.Wic...\n",
       "7        Emmas pensive meditations, walked home, inter...\n",
       "8       Mrs. Jennings came immediately their room retu...\n",
       "9        Mr. Woodhouse fond society way. He liked much...\n",
       "10      After week spent professions love schemes feli...\n",
       "11      Instead receiving such letter excuse friend, a...\n",
       "12       Catherine much engaged theatre evening, retur...\n",
       "13       Mr. Knightley might quarrel her, Emma could q...\n",
       "14      \"If open weather holds much longer,\" said Mrs....\n",
       "15       Mr. Mrs. John Knightley detained long Hartfie...\n",
       "16       Mr. Bertram set for————, Miss Crawford prepar...\n",
       "17      Mrs. Palmer well end fortnight, motherfelt lon...\n",
       "18      When ladies removed dinner, Elizabeth ran sist...\n",
       "19       The Prices just setting church next day Mr. C...\n",
       "20       When ladies returned drawing-room dinner, Emm...\n",
       "21      It second week May, which three young ladies s...\n",
       "22       The Allens entered sixth week stay Bath; whet...\n",
       "23      If Elizabeth, Mr. Darcy gave letter, expect to...\n",
       "24      Happy maternal feelings day Mrs. Bennet gotrid...\n",
       "25       A little quiet reflection enough satisfy Emma...\n",
       "26      The family Dashwood long settled Sussex. Their...\n",
       "27       It great relief Emma find Harriet desirous av...\n",
       "28       The progress Catherines unhappiness events ev...\n",
       "29       It may possible without dancing entirely. Ins...\n",
       "                              ...                        \n",
       "2070     I suppose anyone knows name Allan Quatermain ...\n",
       "2071     We stared Bausi Bausi stared us. “I Black Ele...\n",
       "2072     So I stayed Nodwengu, who, indeed, choice mat...\n",
       "2073     Godwin laid letter, all stared one another am...\n",
       "2074     And trouble first been cloud large man’s hand...\n",
       "2075     A week passed, sat supper one night Mission d...\n",
       "2076     Oros bowed left place, whereon Hesea signed u...\n",
       "2077     We white people think know everything. For in...\n",
       "2078     Hard been Beatrice’s hours since grey morning...\n",
       "2079     Owen Davies tramped along cliff light heart. ...\n",
       "2080     Before ten o’clock following morning, already...\n",
       "2081     “Where to?” I said Bes outside palace, I brok...\n",
       "2082     I heard Ayesha say presently, words struck dr...\n",
       "2083     When I buried father, seen successor installe...\n",
       "2084     Now I, Allan Quatermain, come weirdest (with ...\n",
       "2085     It week Nyleptha’s visit, I begun get little ...\n",
       "2086     After dinner thoroughly inspected outbuilding...\n",
       "2087     In third morning Godwin awoke see ray sunrise...\n",
       "2088     As might expected, memorable case Parsons Dou...\n",
       "2089     It half-past eight watch I woke morning follo...\n",
       "2090     Now curtains open. Before us appeared chamber...\n",
       "2091     I wonder many married couples quite happy fou...\n",
       "2092     OF THE PLAN OF CHARMION; OF THE CONFESSION OF...\n",
       "2093     March did, fifteenth day, fifth, since much m...\n",
       "2094     The big rowing-boat glided cutting ran almost...\n",
       "2095     For hour I sat waiting (Umslopogaas meanwhile...\n",
       "2096     Hendrika obeyed, leading horses side tree. “N...\n",
       "2097     OF THE FEAST OF CLEOPATRA; OF THE MELTING OF ...\n",
       "2098     A whole year gone by, I did, tried do, variou...\n",
       "2099     As echoes Hassan’s whistle died away crash am...\n",
       "Name: Text, Length: 2100, dtype: object"
      ]
     },
     "execution_count": 69,
     "metadata": {},
     "output_type": "execute_result"
    }
   ],
   "source": [
    "# removes the stopwords from the dataframe\n",
    "data_df['Text'] = data_df['Text'].map(lambda x: remove_stopwords(x))"
   ]
  },
  {
   "cell_type": "code",
   "execution_count": 74,
   "metadata": {},
   "outputs": [],
   "source": [
    "from nltk.stem import PorterStemmer \n",
    "from nltk.tokenize import word_tokenize \n",
    "\n",
    "porter_stemmer = PorterStemmer()\n",
    "def stem_sentences(sentence):\n",
    "    tokens = sentence.split()\n",
    "    stemmed_tokens = [porter_stemmer.stem(token) for token in tokens]\n",
    "    return ' '.join(stemmed_tokens)\n"
   ]
  },
  {
   "cell_type": "code",
   "execution_count": 76,
   "metadata": {
    "scrolled": true
   },
   "outputs": [
    {
     "data": {
      "text/plain": [
       "0       with mind thu full happiness, catherin hardli ...\n",
       "1       mrs. john dashwood much confid husband judgmen...\n",
       "2       everyth now regular train: theatre, actors, ac...\n",
       "3       mrs. weston friend made happi safety; satisfac...\n",
       "4       from night sleep expected, mariann awok thenex...\n",
       "5       mrs. dashwood remain norland sever months; any...\n",
       "6       elizabeth relat jane next day, pass mr.wickham...\n",
       "7       emma pensiv meditations, walk home, interrupte...\n",
       "8       mrs. jen came immedi their room return, andwit...\n",
       "9       mr. woodhou fond societi way. He like much fri...\n",
       "10      after week spent profess love scheme felicity,...\n",
       "11      instead receiv such letter excu friend, aseliz...\n",
       "12      catherin much engag theatr evening, return nod...\n",
       "13      mr. knightley might quarrel her, emma could qu...\n",
       "14      \"if open weather hold much longer,\" said mrs. ...\n",
       "15      mr. mrs. john knightley detain long hartfield....\n",
       "16      mr. bertram set for————, miss crawford prepar ...\n",
       "17      mrs. palmer well end fortnight, motherfelt lon...\n",
       "18      when ladi remov dinner, elizabeth ran sister,a...\n",
       "19      the price just set church next day mr. crawfor...\n",
       "20      when ladi return drawing-room dinner, emma fou...\n",
       "21      It second week may, which three young ladi set...\n",
       "22      the allen enter sixth week stay bath; whether ...\n",
       "23      If elizabeth, mr. darci gave letter, expect to...\n",
       "24      happi matern feel day mrs. bennet gotrid two d...\n",
       "25      A littl quiet reflect enough satisfi emma natu...\n",
       "26      the famili dashwood long settl sussex. their e...\n",
       "27      It great relief emma find harriet desir avoid ...\n",
       "28      the progress catherin unhappi event even follo...\n",
       "29      It may possibl without danc entirely. instanc ...\n",
       "                              ...                        \n",
       "2070    I suppo anyon know name allan quatermain would...\n",
       "2071    We stare bausi bausi stare us. “I black eleph ...\n",
       "2072    So I stay nodwengu, who, indeed, choic matter,...\n",
       "2073    godwin laid letter, all stare one anoth amazem...\n",
       "2074    and troubl first been cloud larg man’ hand beg...\n",
       "2075    A week passed, sat supper one night mission di...\n",
       "2076    oro bow left place, whereon hesea sign us stan...\n",
       "2077    We white peopl think know everything. for inst...\n",
       "2078    hard been beatrice’ hour sinc grey morn separa...\n",
       "2079    owen davi tramp along cliff light heart. the w...\n",
       "2080    befor ten o’clock follow morning, alreadi spen...\n",
       "2081    “where to?” I said be outsid palace, I broken ...\n",
       "2082    I heard ayesha say presently, word struck drea...\n",
       "2083    when I buri father, seen successor instal hi p...\n",
       "2084    now I, allan quatermain, come weirdest (with o...\n",
       "2085    It week nyleptha’ visit, I begun get littl mid...\n",
       "2086    after dinner thoroughli inspect outbuild groun...\n",
       "2087    In third morn godwin awok see ray sunri stream...\n",
       "2088    As might expected, memor case parson dou prove...\n",
       "2089    It half-past eight watch I woke morn follow ar...\n",
       "2090    now curtain open. befor us appear chamber holl...\n",
       "2091    I wonder mani marri coupl quit happi found our...\n",
       "2092    OF the plan OF charmion; OF the confess OF cha...\n",
       "2093    march did, fifteenth day, fifth, sinc much mak...\n",
       "2094    the big rowing-boat glide cut ran almost foot ...\n",
       "2095    for hour I sat wait (umslopogaa meanwhil gone ...\n",
       "2096    hendrika obeyed, lead hor side tree. “now, mr....\n",
       "2097    OF the feast OF cleopatra; OF the melt OF the ...\n",
       "2098    A whole year gone by, I did, tri do, variou th...\n",
       "2099    As echo hassan’ whistl die away crash amongst ...\n",
       "Name: Text, Length: 2100, dtype: object"
      ]
     },
     "execution_count": 76,
     "metadata": {},
     "output_type": "execute_result"
    }
   ],
   "source": [
    "# stem the words\n",
    "data_df['Text'] = data_df['Text'].apply(stem_sentences)\n",
    "#data_df['Text']"
   ]
  },
  {
   "cell_type": "code",
   "execution_count": 77,
   "metadata": {},
   "outputs": [],
   "source": [
    "from sklearn.model_selection import train_test_split\n",
    "y = data_df.pop(\"Author\")\n",
    "#X = data_df\n",
    "#print(y)\n",
    "X_train, X_test, y_train, y_test = train_test_split(data_df['Text'], y, test_size=0.3, stratify=y,random_state=42) \n"
   ]
  },
  {
   "cell_type": "code",
   "execution_count": 78,
   "metadata": {},
   "outputs": [
    {
     "name": "stdout",
     "output_type": "stream",
     "text": [
      "42\n",
      "42\n"
     ]
    },
    {
     "data": {
      "text/plain": [
       "pandas.core.frame.DataFrame"
      ]
     },
     "execution_count": 78,
     "metadata": {},
     "output_type": "execute_result"
    }
   ],
   "source": [
    "# Both test and train labels contain instances of all the 42 authors. \n",
    "df_ytrain = pd.DataFrame(y_train)\n",
    "df_ytest = pd.DataFrame(y_test)\n",
    "print(len(df_ytrain['Author'].value_counts()))\n",
    "print(len(df_ytest['Author'].value_counts()))\n",
    "type(df_ytrain)"
   ]
  },
  {
   "cell_type": "code",
   "execution_count": 79,
   "metadata": {
    "scrolled": true
   },
   "outputs": [
    {
     "name": "stdout",
     "output_type": "stream",
     "text": [
      "<bound method spmatrix.__str__ of <1470x5278 sparse matrix of type '<class 'numpy.int64'>'\n",
      "\twith 394418 stored elements in Compressed Sparse Row format>>\n",
      "  (0, 242)\t1\n",
      "  (0, 3680)\t1\n",
      "  (0, 1461)\t1\n",
      "  (0, 1090)\t1\n",
      "  (0, 3746)\t1\n",
      "  (0, 3811)\t1\n",
      "  (0, 2580)\t1\n",
      "  (0, 340)\t1\n",
      "  (0, 5275)\t1\n",
      "  (0, 454)\t1\n",
      "  (0, 4069)\t1\n",
      "  (0, 5276)\t1\n",
      "  (0, 3152)\t1\n",
      "  (0, 4996)\t1\n",
      "  (0, 4614)\t1\n",
      "  (0, 3835)\t1\n",
      "  (0, 1632)\t1\n",
      "  (0, 1256)\t1\n",
      "  (0, 4497)\t1\n",
      "  (0, 3833)\t1\n",
      "  (0, 5260)\t2\n",
      "  (0, 4228)\t2\n",
      "  (0, 3174)\t1\n",
      "  (0, 357)\t1\n",
      "  (0, 1333)\t1\n",
      "  :\t:\n",
      "  (1469, 3739)\t1\n",
      "  (1469, 4164)\t2\n",
      "  (1469, 3252)\t1\n",
      "  (1469, 2397)\t1\n",
      "  (1469, 2867)\t3\n",
      "  (1469, 2234)\t4\n",
      "  (1469, 1395)\t1\n",
      "  (1469, 4232)\t1\n",
      "  (1469, 715)\t1\n",
      "  (1469, 2242)\t2\n",
      "  (1469, 4589)\t1\n",
      "  (1469, 2699)\t1\n",
      "  (1469, 1715)\t2\n",
      "  (1469, 670)\t1\n",
      "  (1469, 4279)\t2\n",
      "  (1469, 4885)\t2\n",
      "  (1469, 2177)\t2\n",
      "  (1469, 2028)\t1\n",
      "  (1469, 4790)\t1\n",
      "  (1469, 3716)\t1\n",
      "  (1469, 3557)\t3\n",
      "  (1469, 3415)\t2\n",
      "  (1469, 3998)\t2\n",
      "  (1469, 2024)\t1\n",
      "  (1469, 4101)\t1\n"
     ]
    }
   ],
   "source": [
    "from sklearn import preprocessing, naive_bayes, metrics, svm\n",
    "from sklearn.feature_extraction.text import CountVectorizer, TfidfVectorizer\n",
    "\n",
    "# label encode the target variable \n",
    "encoder = preprocessing.LabelEncoder()\n",
    "y_train = encoder.fit_transform(y_train)\n",
    "y_test = encoder.fit_transform(y_test)\n",
    "\n",
    "# create a count vectorizer object \n",
    "count_vect = CountVectorizer(analyzer='word',max_df=0.50,min_df=0.01)\n",
    "#count_vect.fit(corpus)\n",
    "\n",
    "# transform the training and validation data using count vectorizer object\n",
    "Xtrain_count =  count_vect.fit_transform(X_train)\n",
    "Xtest_count =  count_vect.transform(X_test)\n",
    "\n",
    "#print(count_vect.get_feature_names())\n",
    "\n",
    "print(Xtrain_count.__str__)\n",
    "print(Xtrain_count)"
   ]
  },
  {
   "cell_type": "code",
   "execution_count": 80,
   "metadata": {
    "scrolled": true
   },
   "outputs": [
    {
     "name": "stdout",
     "output_type": "stream",
     "text": [
      "<bound method spmatrix.__str__ of <1470x3757 sparse matrix of type '<class 'numpy.float64'>'\n",
      "\twith 130085 stored elements in Compressed Sparse Row format>>\n",
      "  (0, 2891)\t0.09323585187294296\n",
      "  (0, 3326)\t0.09165144279181674\n",
      "  (0, 3211)\t0.08838376403404236\n",
      "  (0, 3751)\t0.1401478327378658\n",
      "  (0, 1118)\t0.06298050449166656\n",
      "  (0, 2810)\t0.05159888646890965\n",
      "  (0, 172)\t0.1048708222119551\n",
      "  (0, 1096)\t0.09751589019955616\n",
      "  (0, 506)\t0.1048708222119551\n",
      "  (0, 1617)\t0.08795805845956782\n",
      "  (0, 3745)\t0.10808781068267771\n",
      "  (0, 2263)\t0.09379348160070491\n",
      "  (0, 127)\t0.08123766865943251\n",
      "  (0, 2245)\t0.21250936219319042\n",
      "  (0, 1664)\t0.10928784756470787\n",
      "  (0, 845)\t0.06115903214265201\n",
      "  (0, 2248)\t0.09115028827005658\n",
      "  (0, 3204)\t0.10390504304947375\n",
      "  (0, 146)\t0.0803577661881599\n",
      "  (0, 2096)\t0.06298050449166656\n",
      "  (0, 3667)\t0.07844508181757766\n",
      "  (0, 2234)\t0.09893038796895902\n",
      "  (0, 3044)\t0.08634127889489675\n",
      "  (0, 853)\t0.09379348160070491\n",
      "  (0, 1334)\t0.09066150920745308\n",
      "  :\t:\n",
      "  (1469, 2229)\t0.07615846838446338\n",
      "  (1469, 216)\t0.0889156837984573\n",
      "  (1469, 1517)\t0.09596312652849971\n",
      "  (1469, 1482)\t0.09042804006274273\n",
      "  (1469, 1047)\t0.08820615130662361\n",
      "  (1469, 2100)\t0.09123661061402213\n",
      "  (1469, 2361)\t0.09208463891756166\n",
      "  (1469, 1378)\t0.0949094019496444\n",
      "  (1469, 2159)\t0.09042804006274273\n",
      "  (1469, 3078)\t0.08562644354596323\n",
      "  (1469, 3282)\t0.0939159239905751\n",
      "  (1469, 3200)\t0.0949094019496444\n",
      "  (1469, 2804)\t0.0939159239905751\n",
      "  (1469, 2847)\t0.1624796971194466\n",
      "  (1469, 457)\t0.08562644354596323\n",
      "  (1469, 2881)\t0.08446727193546345\n",
      "  (1469, 463)\t0.0939159239905751\n",
      "  (1469, 1885)\t0.08623637042190432\n",
      "  (1469, 3133)\t0.09596312652849971\n",
      "  (1469, 3544)\t0.0949094019496444\n",
      "  (1469, 2225)\t0.08752445089824855\n",
      "  (1469, 392)\t0.0949094019496444\n",
      "  (1469, 2359)\t0.09297617445885177\n",
      "  (1469, 1235)\t0.09297617445885177\n",
      "  (1469, 1083)\t0.09596312652849971\n"
     ]
    }
   ],
   "source": [
    "# word level tf-idf\n",
    "tfidf_vect = TfidfVectorizer(analyzer='word',sublinear_tf=True, max_df=0.50,min_df=0.01)\n",
    "#tfidf_vect.fit(corpus)\n",
    "Xtrain_tfidf = tfidf_vect.fit_transform(X_train)\n",
    "Xtest_tfidf = tfidf_vect.transform(X_test)\n",
    "\n",
    "#print(Xtrain_tfidf.__str__)\n",
    "#print(Xtrain_tfidf)\n",
    "\n",
    "# ngram level tf-idf \n",
    "tfidf_vect_ngram = TfidfVectorizer(analyzer='word', ngram_range=(2,3),sublinear_tf=True, max_df=0.50,min_df=0.01)\n",
    "#tfidf_vect_ngram.fit(corpus)\n",
    "Xtrain_tfidf_ngram = tfidf_vect_ngram.fit_transform(X_train)\n",
    "Xtest_tfidf_ngram = tfidf_vect_ngram.transform(X_test)\n",
    "\n",
    "print(Xtrain_tfidf_ngram.__str__)\n",
    "print(Xtrain_tfidf_ngram)"
   ]
  },
  {
   "cell_type": "code",
   "execution_count": 81,
   "metadata": {},
   "outputs": [],
   "source": [
    "def train_model(classifier, feature_vector_train, label, feature_vector_test, is_neural_net=False):\n",
    "    # fit the training dataset on the classifier\n",
    "    classifier.fit(feature_vector_train, label)\n",
    "    \n",
    "    # predict the labels on validation dataset\n",
    "    predictions = classifier.predict(feature_vector_test)\n",
    "    \n",
    "    if is_neural_net:\n",
    "        predictions = predictions.argmax(axis=-1)\n",
    "    \n",
    "    return metrics.accuracy_score(predictions, y_test)"
   ]
  },
  {
   "cell_type": "code",
   "execution_count": 84,
   "metadata": {},
   "outputs": [
    {
     "name": "stdout",
     "output_type": "stream",
     "text": [
      "NB, Count Vectors:  0.8714285714285714\n"
     ]
    }
   ],
   "source": [
    "#print(Xtrain_tfidf_ngram.shape)\n",
    "# Naive Bayes on Count Vectors\n",
    "accuracy = train_model(naive_bayes.MultinomialNB(), Xtrain_count, y_train, Xtest_count)\n",
    "print (\"NB, Count Vectors: \", accuracy)\n"
   ]
  },
  {
   "cell_type": "code",
   "execution_count": 85,
   "metadata": {},
   "outputs": [
    {
     "name": "stdout",
     "output_type": "stream",
     "text": [
      "NB, WordLevel TF-IDF:  0.8\n",
      "NB, N-Gram Vectors:  0.5206349206349207\n"
     ]
    }
   ],
   "source": [
    "# Naive Bayes on Word Level TF IDF Vectors\n",
    "accuracy = train_model(naive_bayes.MultinomialNB(), Xtrain_tfidf, y_train, Xtest_tfidf)\n",
    "print (\"NB, WordLevel TF-IDF: \", accuracy)\n",
    "\n",
    "# Naive Bayes on Ngram Level TF IDF Vectors\n",
    "accuracy = train_model(naive_bayes.MultinomialNB(), Xtrain_tfidf_ngram, y_train, Xtest_tfidf_ngram)\n",
    "print (\"NB, N-Gram Vectors: \", accuracy)"
   ]
  },
  {
   "cell_type": "code",
   "execution_count": 86,
   "metadata": {},
   "outputs": [
    {
     "name": "stderr",
     "output_type": "stream",
     "text": [
      "/home/ritik/anaconda3/lib/python3.7/site-packages/sklearn/svm/base.py:196: FutureWarning: The default value of gamma will change from 'auto' to 'scale' in version 0.22 to account better for unscaled features. Set gamma explicitly to 'auto' or 'scale' to avoid this warning.\n",
      "  \"avoid this warning.\", FutureWarning)\n"
     ]
    },
    {
     "name": "stdout",
     "output_type": "stream",
     "text": [
      "SVM, N-Gram Vectors:  0.48095238095238096\n"
     ]
    }
   ],
   "source": [
    "# SVM on Ngram Level TF IDF Vectors\n",
    "\n",
    "accuracy = train_model(svm.SVC(), Xtrain_tfidf_ngram, y_train, Xtest_tfidf_ngram)\n",
    "print (\"SVM, N-Gram Vectors: \", accuracy)"
   ]
  },
  {
   "cell_type": "code",
   "execution_count": null,
   "metadata": {},
   "outputs": [],
   "source": []
  }
 ],
 "metadata": {
  "kernelspec": {
   "display_name": "Python 3",
   "language": "python",
   "name": "python3"
  },
  "language_info": {
   "codemirror_mode": {
    "name": "ipython",
    "version": 3
   },
   "file_extension": ".py",
   "mimetype": "text/x-python",
   "name": "python",
   "nbconvert_exporter": "python",
   "pygments_lexer": "ipython3",
   "version": "3.7.1"
  }
 },
 "nbformat": 4,
 "nbformat_minor": 2
}
